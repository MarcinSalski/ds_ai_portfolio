{
 "cells": [
  {
   "cell_type": "markdown",
   "metadata": {},
   "source": [
    "# Zadanie domowe - EDA Danych dotyczących Titanica\n",
    "\n",
    "* Twoim zadaniem jest wykonanie analizy danych zawartych w załączonym pliku CSV (`26__titanic.csv`).\n",
    "* Plik znajduje się pod video. Pamiętaj, żeby wrzucić plik do tego samego folderu, w którym znajduje się ten notebook.\n",
    "* Wykorzystaj nowo nabytą wiedzę z biblioteki `Pandas`\n",
    "* Jeżeli jest taka konieczność posiłkuj się [code explainerem](https://codeexplainer.imprv.ai/) lub / i [data chatterem](https://datachatter.imprv.ai/) (który również te dane ma dostępne).\n",
    "* Prześlij na discordzie notebook z rozwiązaniem (`#modul-4-zad2`)\n",
    "* Pamiętaj:\n",
    "\n",
    "1. Nie spiesz się\n",
    "2. Potraktuj zadanie domowe jak prawdziwy projekt\n",
    "3. Dodawaj opisy, obserwacje, wnioski\n",
    "4. Dodaj wizualizacje\n",
    "5. Dodaj konkluzję i wnioski końcowe\n",
    "\n",
    "Powodzenia!!! I mega zabawy!"
   ]
  },
  {
   "cell_type": "markdown",
   "metadata": {},
   "source": [
    "## O Danych\n",
    "\n",
    "Dane o pasażerach Titanica\n",
    "\n",
    "Zbiór danych zawiera informacje o pasażerach RMS Titanic, który zatonął 15 kwietnia 1912 roku po zderzeniu z górą\n",
    "lodową. Dane obejmują takie atrybuty jak klasa podróży, wiek, płeć, liczba rodzeństwa/małżonków na pokładzie,\n",
    "liczba rodziców/dzieci na pokładzie, cena biletu oraz miejsce zaokrętowania.\n",
    "\n",
    "Zbiór zawiera także informację o tym, czy pasażer przeżył katastrofę.\n",
    "\n",
    "Titanic przewoził ponad 2,200 osób, z czego ponad 1,500 zginęło, co czyni tę katastrofę jedną z najbardziej\n",
    "tragicznych w historii morskiej.\n",
    "\n",
    "Kolumny:\n",
    "\n",
    "* **pclass** - Klasa biletu\n",
    "* **survived** - Czy pasażer przeżył katastrofę\n",
    "* **name** - Imię i nazwisko pasażera\n",
    "* **sex** - Płeć pasażera\n",
    "* **age** - Wiek pasażera\n",
    "* **sibsp** - Liczba rodzeństwa/małżonków na pokładzie\n",
    "* **parch** - Liczba rodziców/dzieci na pokładzie\n",
    "* **ticket** - Numer biletu\n",
    "* **fare** - Cena biletu\n",
    "* **cabin** - Numer kabiny\n",
    "* **embarked** - Port, w którym pasażer wszedł na pokład (C = Cherbourg, Q = Queenstown, S = Southampton)\n",
    "* **boat** - Numer łodzi ratunkowej\n",
    "* **body** - Numer ciała (jeśli pasażer nie przeżył i ciało zostało odnalezione)\n",
    "* **home.dest** - Miejsce docelowe"
   ]
  },
  {
   "cell_type": "code",
   "execution_count": 3,
   "metadata": {},
   "outputs": [],
   "source": [
    "import pandas as pd"
   ]
  },
  {
   "cell_type": "markdown",
   "metadata": {},
   "source": [
    "# Ogólny przegląd danych"
   ]
  },
  {
   "cell_type": "markdown",
   "metadata": {},
   "source": [
    "Najpierw obejrzę sobie całą bazę."
   ]
  },
  {
   "cell_type": "code",
   "execution_count": 7,
   "metadata": {},
   "outputs": [
    {
     "data": {
      "text/html": [
       "<div>\n",
       "<style scoped>\n",
       "    .dataframe tbody tr th:only-of-type {\n",
       "        vertical-align: middle;\n",
       "    }\n",
       "\n",
       "    .dataframe tbody tr th {\n",
       "        vertical-align: top;\n",
       "    }\n",
       "\n",
       "    .dataframe thead th {\n",
       "        text-align: right;\n",
       "    }\n",
       "</style>\n",
       "<table border=\"1\" class=\"dataframe\">\n",
       "  <thead>\n",
       "    <tr style=\"text-align: right;\">\n",
       "      <th></th>\n",
       "      <th>pclass</th>\n",
       "      <th>survived</th>\n",
       "      <th>name</th>\n",
       "      <th>sex</th>\n",
       "      <th>age</th>\n",
       "      <th>sibsp</th>\n",
       "      <th>parch</th>\n",
       "      <th>ticket</th>\n",
       "      <th>fare</th>\n",
       "      <th>cabin</th>\n",
       "      <th>embarked</th>\n",
       "      <th>boat</th>\n",
       "      <th>body</th>\n",
       "      <th>home.dest</th>\n",
       "    </tr>\n",
       "  </thead>\n",
       "  <tbody>\n",
       "    <tr>\n",
       "      <th>0</th>\n",
       "      <td>1.0</td>\n",
       "      <td>1.0</td>\n",
       "      <td>Allen, Miss. Elisabeth Walton</td>\n",
       "      <td>female</td>\n",
       "      <td>29.0000</td>\n",
       "      <td>0.0</td>\n",
       "      <td>0.0</td>\n",
       "      <td>24160</td>\n",
       "      <td>211.3375</td>\n",
       "      <td>B5</td>\n",
       "      <td>S</td>\n",
       "      <td>2</td>\n",
       "      <td>NaN</td>\n",
       "      <td>St Louis, MO</td>\n",
       "    </tr>\n",
       "    <tr>\n",
       "      <th>1</th>\n",
       "      <td>1.0</td>\n",
       "      <td>1.0</td>\n",
       "      <td>Allison, Master. Hudson Trevor</td>\n",
       "      <td>male</td>\n",
       "      <td>0.9167</td>\n",
       "      <td>1.0</td>\n",
       "      <td>2.0</td>\n",
       "      <td>113781</td>\n",
       "      <td>151.5500</td>\n",
       "      <td>C22 C26</td>\n",
       "      <td>S</td>\n",
       "      <td>11</td>\n",
       "      <td>NaN</td>\n",
       "      <td>Montreal, PQ / Chesterville, ON</td>\n",
       "    </tr>\n",
       "    <tr>\n",
       "      <th>2</th>\n",
       "      <td>1.0</td>\n",
       "      <td>0.0</td>\n",
       "      <td>Allison, Miss. Helen Loraine</td>\n",
       "      <td>female</td>\n",
       "      <td>2.0000</td>\n",
       "      <td>1.0</td>\n",
       "      <td>2.0</td>\n",
       "      <td>113781</td>\n",
       "      <td>151.5500</td>\n",
       "      <td>C22 C26</td>\n",
       "      <td>S</td>\n",
       "      <td>NaN</td>\n",
       "      <td>NaN</td>\n",
       "      <td>Montreal, PQ / Chesterville, ON</td>\n",
       "    </tr>\n",
       "    <tr>\n",
       "      <th>3</th>\n",
       "      <td>1.0</td>\n",
       "      <td>0.0</td>\n",
       "      <td>Allison, Mr. Hudson Joshua Creighton</td>\n",
       "      <td>male</td>\n",
       "      <td>30.0000</td>\n",
       "      <td>1.0</td>\n",
       "      <td>2.0</td>\n",
       "      <td>113781</td>\n",
       "      <td>151.5500</td>\n",
       "      <td>C22 C26</td>\n",
       "      <td>S</td>\n",
       "      <td>NaN</td>\n",
       "      <td>135.0</td>\n",
       "      <td>Montreal, PQ / Chesterville, ON</td>\n",
       "    </tr>\n",
       "    <tr>\n",
       "      <th>4</th>\n",
       "      <td>1.0</td>\n",
       "      <td>0.0</td>\n",
       "      <td>Allison, Mrs. Hudson J C (Bessie Waldo Daniels)</td>\n",
       "      <td>female</td>\n",
       "      <td>25.0000</td>\n",
       "      <td>1.0</td>\n",
       "      <td>2.0</td>\n",
       "      <td>113781</td>\n",
       "      <td>151.5500</td>\n",
       "      <td>C22 C26</td>\n",
       "      <td>S</td>\n",
       "      <td>NaN</td>\n",
       "      <td>NaN</td>\n",
       "      <td>Montreal, PQ / Chesterville, ON</td>\n",
       "    </tr>\n",
       "    <tr>\n",
       "      <th>...</th>\n",
       "      <td>...</td>\n",
       "      <td>...</td>\n",
       "      <td>...</td>\n",
       "      <td>...</td>\n",
       "      <td>...</td>\n",
       "      <td>...</td>\n",
       "      <td>...</td>\n",
       "      <td>...</td>\n",
       "      <td>...</td>\n",
       "      <td>...</td>\n",
       "      <td>...</td>\n",
       "      <td>...</td>\n",
       "      <td>...</td>\n",
       "      <td>...</td>\n",
       "    </tr>\n",
       "    <tr>\n",
       "      <th>1305</th>\n",
       "      <td>3.0</td>\n",
       "      <td>0.0</td>\n",
       "      <td>Zabour, Miss. Thamine</td>\n",
       "      <td>female</td>\n",
       "      <td>NaN</td>\n",
       "      <td>1.0</td>\n",
       "      <td>0.0</td>\n",
       "      <td>2665</td>\n",
       "      <td>14.4542</td>\n",
       "      <td>NaN</td>\n",
       "      <td>C</td>\n",
       "      <td>NaN</td>\n",
       "      <td>NaN</td>\n",
       "      <td>NaN</td>\n",
       "    </tr>\n",
       "    <tr>\n",
       "      <th>1306</th>\n",
       "      <td>3.0</td>\n",
       "      <td>0.0</td>\n",
       "      <td>Zakarian, Mr. Mapriededer</td>\n",
       "      <td>male</td>\n",
       "      <td>26.5000</td>\n",
       "      <td>0.0</td>\n",
       "      <td>0.0</td>\n",
       "      <td>2656</td>\n",
       "      <td>7.2250</td>\n",
       "      <td>NaN</td>\n",
       "      <td>C</td>\n",
       "      <td>NaN</td>\n",
       "      <td>304.0</td>\n",
       "      <td>NaN</td>\n",
       "    </tr>\n",
       "    <tr>\n",
       "      <th>1307</th>\n",
       "      <td>3.0</td>\n",
       "      <td>0.0</td>\n",
       "      <td>Zakarian, Mr. Ortin</td>\n",
       "      <td>male</td>\n",
       "      <td>27.0000</td>\n",
       "      <td>0.0</td>\n",
       "      <td>0.0</td>\n",
       "      <td>2670</td>\n",
       "      <td>7.2250</td>\n",
       "      <td>NaN</td>\n",
       "      <td>C</td>\n",
       "      <td>NaN</td>\n",
       "      <td>NaN</td>\n",
       "      <td>NaN</td>\n",
       "    </tr>\n",
       "    <tr>\n",
       "      <th>1308</th>\n",
       "      <td>3.0</td>\n",
       "      <td>0.0</td>\n",
       "      <td>Zimmerman, Mr. Leo</td>\n",
       "      <td>male</td>\n",
       "      <td>29.0000</td>\n",
       "      <td>0.0</td>\n",
       "      <td>0.0</td>\n",
       "      <td>315082</td>\n",
       "      <td>7.8750</td>\n",
       "      <td>NaN</td>\n",
       "      <td>S</td>\n",
       "      <td>NaN</td>\n",
       "      <td>NaN</td>\n",
       "      <td>NaN</td>\n",
       "    </tr>\n",
       "    <tr>\n",
       "      <th>1309</th>\n",
       "      <td>NaN</td>\n",
       "      <td>NaN</td>\n",
       "      <td>NaN</td>\n",
       "      <td>NaN</td>\n",
       "      <td>NaN</td>\n",
       "      <td>NaN</td>\n",
       "      <td>NaN</td>\n",
       "      <td>NaN</td>\n",
       "      <td>NaN</td>\n",
       "      <td>NaN</td>\n",
       "      <td>NaN</td>\n",
       "      <td>NaN</td>\n",
       "      <td>NaN</td>\n",
       "      <td>NaN</td>\n",
       "    </tr>\n",
       "  </tbody>\n",
       "</table>\n",
       "<p>1310 rows × 14 columns</p>\n",
       "</div>"
      ],
      "text/plain": [
       "      pclass  survived                                             name  \\\n",
       "0        1.0       1.0                    Allen, Miss. Elisabeth Walton   \n",
       "1        1.0       1.0                   Allison, Master. Hudson Trevor   \n",
       "2        1.0       0.0                     Allison, Miss. Helen Loraine   \n",
       "3        1.0       0.0             Allison, Mr. Hudson Joshua Creighton   \n",
       "4        1.0       0.0  Allison, Mrs. Hudson J C (Bessie Waldo Daniels)   \n",
       "...      ...       ...                                              ...   \n",
       "1305     3.0       0.0                            Zabour, Miss. Thamine   \n",
       "1306     3.0       0.0                        Zakarian, Mr. Mapriededer   \n",
       "1307     3.0       0.0                              Zakarian, Mr. Ortin   \n",
       "1308     3.0       0.0                               Zimmerman, Mr. Leo   \n",
       "1309     NaN       NaN                                              NaN   \n",
       "\n",
       "         sex      age  sibsp  parch  ticket      fare    cabin embarked boat  \\\n",
       "0     female  29.0000    0.0    0.0   24160  211.3375       B5        S    2   \n",
       "1       male   0.9167    1.0    2.0  113781  151.5500  C22 C26        S   11   \n",
       "2     female   2.0000    1.0    2.0  113781  151.5500  C22 C26        S  NaN   \n",
       "3       male  30.0000    1.0    2.0  113781  151.5500  C22 C26        S  NaN   \n",
       "4     female  25.0000    1.0    2.0  113781  151.5500  C22 C26        S  NaN   \n",
       "...      ...      ...    ...    ...     ...       ...      ...      ...  ...   \n",
       "1305  female      NaN    1.0    0.0    2665   14.4542      NaN        C  NaN   \n",
       "1306    male  26.5000    0.0    0.0    2656    7.2250      NaN        C  NaN   \n",
       "1307    male  27.0000    0.0    0.0    2670    7.2250      NaN        C  NaN   \n",
       "1308    male  29.0000    0.0    0.0  315082    7.8750      NaN        S  NaN   \n",
       "1309     NaN      NaN    NaN    NaN     NaN       NaN      NaN      NaN  NaN   \n",
       "\n",
       "       body                        home.dest  \n",
       "0       NaN                     St Louis, MO  \n",
       "1       NaN  Montreal, PQ / Chesterville, ON  \n",
       "2       NaN  Montreal, PQ / Chesterville, ON  \n",
       "3     135.0  Montreal, PQ / Chesterville, ON  \n",
       "4       NaN  Montreal, PQ / Chesterville, ON  \n",
       "...     ...                              ...  \n",
       "1305    NaN                              NaN  \n",
       "1306  304.0                              NaN  \n",
       "1307    NaN                              NaN  \n",
       "1308    NaN                              NaN  \n",
       "1309    NaN                              NaN  \n",
       "\n",
       "[1310 rows x 14 columns]"
      ]
     },
     "execution_count": 7,
     "metadata": {},
     "output_type": "execute_result"
    }
   ],
   "source": [
    "df = pd.read_csv('26__titanic.csv', sep=\",\")\n",
    "df"
   ]
  },
  {
   "cell_type": "markdown",
   "metadata": {},
   "source": [
    "W bazie jest 1310 rekordów. Jeśli jest to tylko lista pasażerów (bez załogi) to wygląda na w miarę kompletną. Wikipedia podaje, że na Titanicu było 1311 pasażerów i 897 członków załogi. Dane te, jednak, zmieniają się w zależności od źródła, więc liczba 1310 pasażerów wydaje się dostatecznie dokładną.\n",
    "\n",
    "Zobaczmy listę kolumn."
   ]
  },
  {
   "cell_type": "code",
   "execution_count": 10,
   "metadata": {
    "jupyter": {
     "source_hidden": true
    }
   },
   "outputs": [
    {
     "data": {
      "text/plain": [
       "Index(['pclass', 'survived', 'name', 'sex', 'age', 'sibsp', 'parch', 'ticket',\n",
       "       'fare', 'cabin', 'embarked', 'boat', 'body', 'home.dest'],\n",
       "      dtype='object')"
      ]
     },
     "execution_count": 10,
     "metadata": {},
     "output_type": "execute_result"
    }
   ],
   "source": [
    "df.columns"
   ]
  },
  {
   "cell_type": "markdown",
   "metadata": {},
   "source": [
    "Lista kolumn zgodna z opisem."
   ]
  },
  {
   "cell_type": "markdown",
   "metadata": {},
   "source": [
    "Zróbmy próbkę losową rekordów."
   ]
  },
  {
   "cell_type": "code",
   "execution_count": 14,
   "metadata": {},
   "outputs": [
    {
     "data": {
      "text/html": [
       "<div>\n",
       "<style scoped>\n",
       "    .dataframe tbody tr th:only-of-type {\n",
       "        vertical-align: middle;\n",
       "    }\n",
       "\n",
       "    .dataframe tbody tr th {\n",
       "        vertical-align: top;\n",
       "    }\n",
       "\n",
       "    .dataframe thead th {\n",
       "        text-align: right;\n",
       "    }\n",
       "</style>\n",
       "<table border=\"1\" class=\"dataframe\">\n",
       "  <thead>\n",
       "    <tr style=\"text-align: right;\">\n",
       "      <th></th>\n",
       "      <th>pclass</th>\n",
       "      <th>survived</th>\n",
       "      <th>name</th>\n",
       "      <th>sex</th>\n",
       "      <th>age</th>\n",
       "      <th>sibsp</th>\n",
       "      <th>parch</th>\n",
       "      <th>ticket</th>\n",
       "      <th>fare</th>\n",
       "      <th>cabin</th>\n",
       "      <th>embarked</th>\n",
       "      <th>boat</th>\n",
       "      <th>body</th>\n",
       "      <th>home.dest</th>\n",
       "    </tr>\n",
       "  </thead>\n",
       "  <tbody>\n",
       "    <tr>\n",
       "      <th>1011</th>\n",
       "      <td>3.0</td>\n",
       "      <td>0.0</td>\n",
       "      <td>McNamee, Mrs. Neal (Eileen O'Leary)</td>\n",
       "      <td>female</td>\n",
       "      <td>19.0</td>\n",
       "      <td>1.0</td>\n",
       "      <td>0.0</td>\n",
       "      <td>376566</td>\n",
       "      <td>16.1000</td>\n",
       "      <td>NaN</td>\n",
       "      <td>S</td>\n",
       "      <td>NaN</td>\n",
       "      <td>53.0</td>\n",
       "      <td>NaN</td>\n",
       "    </tr>\n",
       "    <tr>\n",
       "      <th>188</th>\n",
       "      <td>1.0</td>\n",
       "      <td>1.0</td>\n",
       "      <td>Lines, Mrs. Ernest H (Elizabeth Lindsey James)</td>\n",
       "      <td>female</td>\n",
       "      <td>51.0</td>\n",
       "      <td>0.0</td>\n",
       "      <td>1.0</td>\n",
       "      <td>PC 17592</td>\n",
       "      <td>39.4000</td>\n",
       "      <td>D28</td>\n",
       "      <td>S</td>\n",
       "      <td>9</td>\n",
       "      <td>NaN</td>\n",
       "      <td>Paris, France</td>\n",
       "    </tr>\n",
       "    <tr>\n",
       "      <th>869</th>\n",
       "      <td>3.0</td>\n",
       "      <td>0.0</td>\n",
       "      <td>Holthen, Mr. Johan Martin</td>\n",
       "      <td>male</td>\n",
       "      <td>28.0</td>\n",
       "      <td>0.0</td>\n",
       "      <td>0.0</td>\n",
       "      <td>C 4001</td>\n",
       "      <td>22.5250</td>\n",
       "      <td>NaN</td>\n",
       "      <td>S</td>\n",
       "      <td>NaN</td>\n",
       "      <td>NaN</td>\n",
       "      <td>NaN</td>\n",
       "    </tr>\n",
       "    <tr>\n",
       "      <th>239</th>\n",
       "      <td>1.0</td>\n",
       "      <td>0.0</td>\n",
       "      <td>Roebling, Mr. Washington Augustus II</td>\n",
       "      <td>male</td>\n",
       "      <td>31.0</td>\n",
       "      <td>0.0</td>\n",
       "      <td>0.0</td>\n",
       "      <td>PC 17590</td>\n",
       "      <td>50.4958</td>\n",
       "      <td>A24</td>\n",
       "      <td>S</td>\n",
       "      <td>NaN</td>\n",
       "      <td>NaN</td>\n",
       "      <td>Trenton, NJ</td>\n",
       "    </tr>\n",
       "    <tr>\n",
       "      <th>1208</th>\n",
       "      <td>3.0</td>\n",
       "      <td>0.0</td>\n",
       "      <td>Skoog, Miss. Mabel</td>\n",
       "      <td>female</td>\n",
       "      <td>9.0</td>\n",
       "      <td>3.0</td>\n",
       "      <td>2.0</td>\n",
       "      <td>347088</td>\n",
       "      <td>27.9000</td>\n",
       "      <td>NaN</td>\n",
       "      <td>S</td>\n",
       "      <td>NaN</td>\n",
       "      <td>NaN</td>\n",
       "      <td>NaN</td>\n",
       "    </tr>\n",
       "    <tr>\n",
       "      <th>486</th>\n",
       "      <td>2.0</td>\n",
       "      <td>0.0</td>\n",
       "      <td>Leyson, Mr. Robert William Norman</td>\n",
       "      <td>male</td>\n",
       "      <td>24.0</td>\n",
       "      <td>0.0</td>\n",
       "      <td>0.0</td>\n",
       "      <td>C.A. 29566</td>\n",
       "      <td>10.5000</td>\n",
       "      <td>NaN</td>\n",
       "      <td>S</td>\n",
       "      <td>NaN</td>\n",
       "      <td>108.0</td>\n",
       "      <td>NaN</td>\n",
       "    </tr>\n",
       "    <tr>\n",
       "      <th>163</th>\n",
       "      <td>1.0</td>\n",
       "      <td>1.0</td>\n",
       "      <td>Holverson, Mrs. Alexander Oskar (Mary Aline To...</td>\n",
       "      <td>female</td>\n",
       "      <td>35.0</td>\n",
       "      <td>1.0</td>\n",
       "      <td>0.0</td>\n",
       "      <td>113789</td>\n",
       "      <td>52.0000</td>\n",
       "      <td>NaN</td>\n",
       "      <td>S</td>\n",
       "      <td>8</td>\n",
       "      <td>NaN</td>\n",
       "      <td>New York, NY</td>\n",
       "    </tr>\n",
       "    <tr>\n",
       "      <th>202</th>\n",
       "      <td>1.0</td>\n",
       "      <td>1.0</td>\n",
       "      <td>McGough, Mr. James Robert</td>\n",
       "      <td>male</td>\n",
       "      <td>36.0</td>\n",
       "      <td>0.0</td>\n",
       "      <td>0.0</td>\n",
       "      <td>PC 17473</td>\n",
       "      <td>26.2875</td>\n",
       "      <td>E25</td>\n",
       "      <td>S</td>\n",
       "      <td>7</td>\n",
       "      <td>NaN</td>\n",
       "      <td>Philadelphia, PA</td>\n",
       "    </tr>\n",
       "    <tr>\n",
       "      <th>522</th>\n",
       "      <td>2.0</td>\n",
       "      <td>0.0</td>\n",
       "      <td>Otter, Mr. Richard</td>\n",
       "      <td>male</td>\n",
       "      <td>39.0</td>\n",
       "      <td>0.0</td>\n",
       "      <td>0.0</td>\n",
       "      <td>28213</td>\n",
       "      <td>13.0000</td>\n",
       "      <td>NaN</td>\n",
       "      <td>S</td>\n",
       "      <td>NaN</td>\n",
       "      <td>NaN</td>\n",
       "      <td>Middleburg Heights, OH</td>\n",
       "    </tr>\n",
       "    <tr>\n",
       "      <th>596</th>\n",
       "      <td>2.0</td>\n",
       "      <td>1.0</td>\n",
       "      <td>Wilhelms, Mr. Charles</td>\n",
       "      <td>male</td>\n",
       "      <td>31.0</td>\n",
       "      <td>0.0</td>\n",
       "      <td>0.0</td>\n",
       "      <td>244270</td>\n",
       "      <td>13.0000</td>\n",
       "      <td>NaN</td>\n",
       "      <td>S</td>\n",
       "      <td>9</td>\n",
       "      <td>NaN</td>\n",
       "      <td>London, England</td>\n",
       "    </tr>\n",
       "  </tbody>\n",
       "</table>\n",
       "</div>"
      ],
      "text/plain": [
       "      pclass  survived                                               name  \\\n",
       "1011     3.0       0.0                McNamee, Mrs. Neal (Eileen O'Leary)   \n",
       "188      1.0       1.0     Lines, Mrs. Ernest H (Elizabeth Lindsey James)   \n",
       "869      3.0       0.0                          Holthen, Mr. Johan Martin   \n",
       "239      1.0       0.0               Roebling, Mr. Washington Augustus II   \n",
       "1208     3.0       0.0                                 Skoog, Miss. Mabel   \n",
       "486      2.0       0.0                  Leyson, Mr. Robert William Norman   \n",
       "163      1.0       1.0  Holverson, Mrs. Alexander Oskar (Mary Aline To...   \n",
       "202      1.0       1.0                          McGough, Mr. James Robert   \n",
       "522      2.0       0.0                                 Otter, Mr. Richard   \n",
       "596      2.0       1.0                              Wilhelms, Mr. Charles   \n",
       "\n",
       "         sex   age  sibsp  parch      ticket     fare cabin embarked boat  \\\n",
       "1011  female  19.0    1.0    0.0      376566  16.1000   NaN        S  NaN   \n",
       "188   female  51.0    0.0    1.0    PC 17592  39.4000   D28        S    9   \n",
       "869     male  28.0    0.0    0.0      C 4001  22.5250   NaN        S  NaN   \n",
       "239     male  31.0    0.0    0.0    PC 17590  50.4958   A24        S  NaN   \n",
       "1208  female   9.0    3.0    2.0      347088  27.9000   NaN        S  NaN   \n",
       "486     male  24.0    0.0    0.0  C.A. 29566  10.5000   NaN        S  NaN   \n",
       "163   female  35.0    1.0    0.0      113789  52.0000   NaN        S    8   \n",
       "202     male  36.0    0.0    0.0    PC 17473  26.2875   E25        S    7   \n",
       "522     male  39.0    0.0    0.0       28213  13.0000   NaN        S  NaN   \n",
       "596     male  31.0    0.0    0.0      244270  13.0000   NaN        S    9   \n",
       "\n",
       "       body               home.dest  \n",
       "1011   53.0                     NaN  \n",
       "188     NaN           Paris, France  \n",
       "869     NaN                     NaN  \n",
       "239     NaN             Trenton, NJ  \n",
       "1208    NaN                     NaN  \n",
       "486   108.0                     NaN  \n",
       "163     NaN            New York, NY  \n",
       "202     NaN        Philadelphia, PA  \n",
       "522     NaN  Middleburg Heights, OH  \n",
       "596     NaN         London, England  "
      ]
     },
     "execution_count": 14,
     "metadata": {},
     "output_type": "execute_result"
    }
   ],
   "source": [
    "df.sample(10)"
   ]
  },
  {
   "cell_type": "markdown",
   "metadata": {},
   "source": [
    "Widać, że niektórzy zajmowali kilka kabin - pewnie mieli dzięki temu coś w rodzaju biura lub apartamentu. \n",
    "\n",
    "W części liczbowej (wiek, rodzina, nr biletu, cena) dane wyglądają dość dobze. Brak numeru łodzi, do której wsiadł będę chyba traktował jak informację, że nie wsiadł. Brak ciała też jest dość oczywisty - chyba większości ciał nie znaleziono. Brak miejsca docelowego jest faktycznym brakiem w danych. Każdy dokądś zmierzał tylko się pewnie nie przyznał.\n",
    "\n",
    "Ciekawe, że dane o tym czy osoba przeżyła są podane w formacie liczby."
   ]
  },
  {
   "cell_type": "markdown",
   "metadata": {},
   "source": [
    "I jeszcze trochę danych ogólnych o bazie i zawartych w niej danych."
   ]
  },
  {
   "cell_type": "code",
   "execution_count": 18,
   "metadata": {},
   "outputs": [
    {
     "name": "stdout",
     "output_type": "stream",
     "text": [
      "<class 'pandas.core.frame.DataFrame'>\n",
      "RangeIndex: 1310 entries, 0 to 1309\n",
      "Data columns (total 14 columns):\n",
      " #   Column     Non-Null Count  Dtype  \n",
      "---  ------     --------------  -----  \n",
      " 0   pclass     1309 non-null   float64\n",
      " 1   survived   1309 non-null   float64\n",
      " 2   name       1309 non-null   object \n",
      " 3   sex        1309 non-null   object \n",
      " 4   age        1046 non-null   float64\n",
      " 5   sibsp      1309 non-null   float64\n",
      " 6   parch      1309 non-null   float64\n",
      " 7   ticket     1309 non-null   object \n",
      " 8   fare       1308 non-null   float64\n",
      " 9   cabin      295 non-null    object \n",
      " 10  embarked   1307 non-null   object \n",
      " 11  boat       486 non-null    object \n",
      " 12  body       121 non-null    float64\n",
      " 13  home.dest  745 non-null    object \n",
      "dtypes: float64(7), object(7)\n",
      "memory usage: 143.4+ KB\n"
     ]
    }
   ],
   "source": [
    "df.info()"
   ]
  },
  {
   "cell_type": "markdown",
   "metadata": {},
   "source": [
    "Widać, że podstawowe dane (klasa,  czy przeżył, nazwisko, płeć, informacje o rodzinie, numery biletów) są kompletne. Jest trochę braków w danych o wieku, jedna brakująca informacja o taryfie, 2 osoby nie wiadomo gdzie wsiadły.\n",
    "\n",
    "Najsłabiej wygląda informacja o kabinie (tylko 295 osób ma przypisane  numery) i o celu podróży - tylko połowa je podała.\n",
    "\n",
    "Zastanawiam się też co zrobić z informacją o znalezionych ciałach oraz o łodziach ratunkowych. Równie dobrze może to być informacja prawdziwa, jak i dane wypełnione tylko częściowo. Temat do przemyślenia."
   ]
  },
  {
   "cell_type": "code",
   "execution_count": 21,
   "metadata": {},
   "outputs": [
    {
     "data": {
      "text/html": [
       "<div>\n",
       "<style scoped>\n",
       "    .dataframe tbody tr th:only-of-type {\n",
       "        vertical-align: middle;\n",
       "    }\n",
       "\n",
       "    .dataframe tbody tr th {\n",
       "        vertical-align: top;\n",
       "    }\n",
       "\n",
       "    .dataframe thead th {\n",
       "        text-align: right;\n",
       "    }\n",
       "</style>\n",
       "<table border=\"1\" class=\"dataframe\">\n",
       "  <thead>\n",
       "    <tr style=\"text-align: right;\">\n",
       "      <th></th>\n",
       "      <th>pclass</th>\n",
       "      <th>survived</th>\n",
       "      <th>age</th>\n",
       "      <th>sibsp</th>\n",
       "      <th>parch</th>\n",
       "      <th>fare</th>\n",
       "      <th>body</th>\n",
       "    </tr>\n",
       "  </thead>\n",
       "  <tbody>\n",
       "    <tr>\n",
       "      <th>count</th>\n",
       "      <td>1309.000000</td>\n",
       "      <td>1309.000000</td>\n",
       "      <td>1046.000000</td>\n",
       "      <td>1309.000000</td>\n",
       "      <td>1309.000000</td>\n",
       "      <td>1308.000000</td>\n",
       "      <td>121.000000</td>\n",
       "    </tr>\n",
       "    <tr>\n",
       "      <th>mean</th>\n",
       "      <td>2.294882</td>\n",
       "      <td>0.381971</td>\n",
       "      <td>29.881135</td>\n",
       "      <td>0.498854</td>\n",
       "      <td>0.385027</td>\n",
       "      <td>33.295479</td>\n",
       "      <td>160.809917</td>\n",
       "    </tr>\n",
       "    <tr>\n",
       "      <th>std</th>\n",
       "      <td>0.837836</td>\n",
       "      <td>0.486055</td>\n",
       "      <td>14.413500</td>\n",
       "      <td>1.041658</td>\n",
       "      <td>0.865560</td>\n",
       "      <td>51.758668</td>\n",
       "      <td>97.696922</td>\n",
       "    </tr>\n",
       "    <tr>\n",
       "      <th>min</th>\n",
       "      <td>1.000000</td>\n",
       "      <td>0.000000</td>\n",
       "      <td>0.166700</td>\n",
       "      <td>0.000000</td>\n",
       "      <td>0.000000</td>\n",
       "      <td>0.000000</td>\n",
       "      <td>1.000000</td>\n",
       "    </tr>\n",
       "    <tr>\n",
       "      <th>25%</th>\n",
       "      <td>2.000000</td>\n",
       "      <td>0.000000</td>\n",
       "      <td>21.000000</td>\n",
       "      <td>0.000000</td>\n",
       "      <td>0.000000</td>\n",
       "      <td>7.895800</td>\n",
       "      <td>72.000000</td>\n",
       "    </tr>\n",
       "    <tr>\n",
       "      <th>50%</th>\n",
       "      <td>3.000000</td>\n",
       "      <td>0.000000</td>\n",
       "      <td>28.000000</td>\n",
       "      <td>0.000000</td>\n",
       "      <td>0.000000</td>\n",
       "      <td>14.454200</td>\n",
       "      <td>155.000000</td>\n",
       "    </tr>\n",
       "    <tr>\n",
       "      <th>75%</th>\n",
       "      <td>3.000000</td>\n",
       "      <td>1.000000</td>\n",
       "      <td>39.000000</td>\n",
       "      <td>1.000000</td>\n",
       "      <td>0.000000</td>\n",
       "      <td>31.275000</td>\n",
       "      <td>256.000000</td>\n",
       "    </tr>\n",
       "    <tr>\n",
       "      <th>max</th>\n",
       "      <td>3.000000</td>\n",
       "      <td>1.000000</td>\n",
       "      <td>80.000000</td>\n",
       "      <td>8.000000</td>\n",
       "      <td>9.000000</td>\n",
       "      <td>512.329200</td>\n",
       "      <td>328.000000</td>\n",
       "    </tr>\n",
       "  </tbody>\n",
       "</table>\n",
       "</div>"
      ],
      "text/plain": [
       "            pclass     survived          age        sibsp        parch  \\\n",
       "count  1309.000000  1309.000000  1046.000000  1309.000000  1309.000000   \n",
       "mean      2.294882     0.381971    29.881135     0.498854     0.385027   \n",
       "std       0.837836     0.486055    14.413500     1.041658     0.865560   \n",
       "min       1.000000     0.000000     0.166700     0.000000     0.000000   \n",
       "25%       2.000000     0.000000    21.000000     0.000000     0.000000   \n",
       "50%       3.000000     0.000000    28.000000     0.000000     0.000000   \n",
       "75%       3.000000     1.000000    39.000000     1.000000     0.000000   \n",
       "max       3.000000     1.000000    80.000000     8.000000     9.000000   \n",
       "\n",
       "              fare        body  \n",
       "count  1308.000000  121.000000  \n",
       "mean     33.295479  160.809917  \n",
       "std      51.758668   97.696922  \n",
       "min       0.000000    1.000000  \n",
       "25%       7.895800   72.000000  \n",
       "50%      14.454200  155.000000  \n",
       "75%      31.275000  256.000000  \n",
       "max     512.329200  328.000000  "
      ]
     },
     "execution_count": 21,
     "metadata": {},
     "output_type": "execute_result"
    }
   ],
   "source": [
    "df.describe()"
   ]
  },
  {
   "cell_type": "markdown",
   "metadata": {},
   "source": [
    "Tego typu analiza (średnia, kwartyle, minimmum, maksimum) raczej nie ma sensu w przypadku danych o  Titanicu. Można ewentualnie popatrzeć na średni wiek pasażera lub średnią cenę biletu).\n",
    "\n",
    "Trochę niepokoi informacja, że najniższa cena biletu wynosiła 0. Chyba nikt za darmo nie popłynął, więc raczej to jest błąd w danych. Sprawdzę ile jest takich rekordów."
   ]
  },
  {
   "cell_type": "code",
   "execution_count": 24,
   "metadata": {},
   "outputs": [
    {
     "name": "stdout",
     "output_type": "stream",
     "text": [
      "Liczba biletów w taryfie 0 wynosi 17\n"
     ]
    }
   ],
   "source": [
    "fare_zero_count = df[df['fare'] == 0].shape[0]\n",
    "print(\"Liczba biletów w taryfie 0 wynosi\", fare_zero_count)"
   ]
  },
  {
   "cell_type": "markdown",
   "metadata": {},
   "source": [
    "Siedemmnaście rekordów - to niewiele. Zobaczmy je."
   ]
  },
  {
   "cell_type": "code",
   "execution_count": 27,
   "metadata": {},
   "outputs": [
    {
     "data": {
      "text/html": [
       "<div>\n",
       "<style scoped>\n",
       "    .dataframe tbody tr th:only-of-type {\n",
       "        vertical-align: middle;\n",
       "    }\n",
       "\n",
       "    .dataframe tbody tr th {\n",
       "        vertical-align: top;\n",
       "    }\n",
       "\n",
       "    .dataframe thead th {\n",
       "        text-align: right;\n",
       "    }\n",
       "</style>\n",
       "<table border=\"1\" class=\"dataframe\">\n",
       "  <thead>\n",
       "    <tr style=\"text-align: right;\">\n",
       "      <th></th>\n",
       "      <th>pclass</th>\n",
       "      <th>survived</th>\n",
       "      <th>name</th>\n",
       "      <th>sex</th>\n",
       "      <th>age</th>\n",
       "      <th>sibsp</th>\n",
       "      <th>parch</th>\n",
       "      <th>ticket</th>\n",
       "      <th>fare</th>\n",
       "      <th>cabin</th>\n",
       "      <th>embarked</th>\n",
       "      <th>boat</th>\n",
       "      <th>body</th>\n",
       "      <th>home.dest</th>\n",
       "    </tr>\n",
       "  </thead>\n",
       "  <tbody>\n",
       "    <tr>\n",
       "      <th>7</th>\n",
       "      <td>1.0</td>\n",
       "      <td>0.0</td>\n",
       "      <td>Andrews, Mr. Thomas Jr</td>\n",
       "      <td>male</td>\n",
       "      <td>39.0</td>\n",
       "      <td>0.0</td>\n",
       "      <td>0.0</td>\n",
       "      <td>112050</td>\n",
       "      <td>0.0</td>\n",
       "      <td>A36</td>\n",
       "      <td>S</td>\n",
       "      <td>NaN</td>\n",
       "      <td>NaN</td>\n",
       "      <td>Belfast, NI</td>\n",
       "    </tr>\n",
       "    <tr>\n",
       "      <th>70</th>\n",
       "      <td>1.0</td>\n",
       "      <td>0.0</td>\n",
       "      <td>Chisholm, Mr. Roderick Robert Crispin</td>\n",
       "      <td>male</td>\n",
       "      <td>NaN</td>\n",
       "      <td>0.0</td>\n",
       "      <td>0.0</td>\n",
       "      <td>112051</td>\n",
       "      <td>0.0</td>\n",
       "      <td>NaN</td>\n",
       "      <td>S</td>\n",
       "      <td>NaN</td>\n",
       "      <td>NaN</td>\n",
       "      <td>Liverpool, England / Belfast</td>\n",
       "    </tr>\n",
       "    <tr>\n",
       "      <th>125</th>\n",
       "      <td>1.0</td>\n",
       "      <td>0.0</td>\n",
       "      <td>Fry, Mr. Richard</td>\n",
       "      <td>male</td>\n",
       "      <td>NaN</td>\n",
       "      <td>0.0</td>\n",
       "      <td>0.0</td>\n",
       "      <td>112058</td>\n",
       "      <td>0.0</td>\n",
       "      <td>B102</td>\n",
       "      <td>S</td>\n",
       "      <td>NaN</td>\n",
       "      <td>NaN</td>\n",
       "      <td>NaN</td>\n",
       "    </tr>\n",
       "    <tr>\n",
       "      <th>150</th>\n",
       "      <td>1.0</td>\n",
       "      <td>0.0</td>\n",
       "      <td>Harrison, Mr. William</td>\n",
       "      <td>male</td>\n",
       "      <td>40.0</td>\n",
       "      <td>0.0</td>\n",
       "      <td>0.0</td>\n",
       "      <td>112059</td>\n",
       "      <td>0.0</td>\n",
       "      <td>B94</td>\n",
       "      <td>S</td>\n",
       "      <td>NaN</td>\n",
       "      <td>110.0</td>\n",
       "      <td>NaN</td>\n",
       "    </tr>\n",
       "    <tr>\n",
       "      <th>170</th>\n",
       "      <td>1.0</td>\n",
       "      <td>1.0</td>\n",
       "      <td>Ismay, Mr. Joseph Bruce</td>\n",
       "      <td>male</td>\n",
       "      <td>49.0</td>\n",
       "      <td>0.0</td>\n",
       "      <td>0.0</td>\n",
       "      <td>112058</td>\n",
       "      <td>0.0</td>\n",
       "      <td>B52 B54 B56</td>\n",
       "      <td>S</td>\n",
       "      <td>C</td>\n",
       "      <td>NaN</td>\n",
       "      <td>Liverpool</td>\n",
       "    </tr>\n",
       "    <tr>\n",
       "      <th>223</th>\n",
       "      <td>1.0</td>\n",
       "      <td>0.0</td>\n",
       "      <td>Parr, Mr. William Henry Marsh</td>\n",
       "      <td>male</td>\n",
       "      <td>NaN</td>\n",
       "      <td>0.0</td>\n",
       "      <td>0.0</td>\n",
       "      <td>112052</td>\n",
       "      <td>0.0</td>\n",
       "      <td>NaN</td>\n",
       "      <td>S</td>\n",
       "      <td>NaN</td>\n",
       "      <td>NaN</td>\n",
       "      <td>Belfast</td>\n",
       "    </tr>\n",
       "    <tr>\n",
       "      <th>234</th>\n",
       "      <td>1.0</td>\n",
       "      <td>0.0</td>\n",
       "      <td>Reuchlin, Jonkheer. John George</td>\n",
       "      <td>male</td>\n",
       "      <td>38.0</td>\n",
       "      <td>0.0</td>\n",
       "      <td>0.0</td>\n",
       "      <td>19972</td>\n",
       "      <td>0.0</td>\n",
       "      <td>NaN</td>\n",
       "      <td>S</td>\n",
       "      <td>NaN</td>\n",
       "      <td>NaN</td>\n",
       "      <td>Rotterdam, Netherlands</td>\n",
       "    </tr>\n",
       "    <tr>\n",
       "      <th>363</th>\n",
       "      <td>2.0</td>\n",
       "      <td>0.0</td>\n",
       "      <td>Campbell, Mr. William</td>\n",
       "      <td>male</td>\n",
       "      <td>NaN</td>\n",
       "      <td>0.0</td>\n",
       "      <td>0.0</td>\n",
       "      <td>239853</td>\n",
       "      <td>0.0</td>\n",
       "      <td>NaN</td>\n",
       "      <td>S</td>\n",
       "      <td>NaN</td>\n",
       "      <td>NaN</td>\n",
       "      <td>Belfast</td>\n",
       "    </tr>\n",
       "    <tr>\n",
       "      <th>384</th>\n",
       "      <td>2.0</td>\n",
       "      <td>0.0</td>\n",
       "      <td>Cunningham, Mr. Alfred Fleming</td>\n",
       "      <td>male</td>\n",
       "      <td>NaN</td>\n",
       "      <td>0.0</td>\n",
       "      <td>0.0</td>\n",
       "      <td>239853</td>\n",
       "      <td>0.0</td>\n",
       "      <td>NaN</td>\n",
       "      <td>S</td>\n",
       "      <td>NaN</td>\n",
       "      <td>NaN</td>\n",
       "      <td>Belfast</td>\n",
       "    </tr>\n",
       "    <tr>\n",
       "      <th>410</th>\n",
       "      <td>2.0</td>\n",
       "      <td>0.0</td>\n",
       "      <td>Frost, Mr. Anthony Wood \"Archie\"</td>\n",
       "      <td>male</td>\n",
       "      <td>NaN</td>\n",
       "      <td>0.0</td>\n",
       "      <td>0.0</td>\n",
       "      <td>239854</td>\n",
       "      <td>0.0</td>\n",
       "      <td>NaN</td>\n",
       "      <td>S</td>\n",
       "      <td>NaN</td>\n",
       "      <td>NaN</td>\n",
       "      <td>Belfast</td>\n",
       "    </tr>\n",
       "    <tr>\n",
       "      <th>473</th>\n",
       "      <td>2.0</td>\n",
       "      <td>0.0</td>\n",
       "      <td>Knight, Mr. Robert J</td>\n",
       "      <td>male</td>\n",
       "      <td>NaN</td>\n",
       "      <td>0.0</td>\n",
       "      <td>0.0</td>\n",
       "      <td>239855</td>\n",
       "      <td>0.0</td>\n",
       "      <td>NaN</td>\n",
       "      <td>S</td>\n",
       "      <td>NaN</td>\n",
       "      <td>NaN</td>\n",
       "      <td>Belfast</td>\n",
       "    </tr>\n",
       "    <tr>\n",
       "      <th>528</th>\n",
       "      <td>2.0</td>\n",
       "      <td>0.0</td>\n",
       "      <td>Parkes, Mr. Francis \"Frank\"</td>\n",
       "      <td>male</td>\n",
       "      <td>NaN</td>\n",
       "      <td>0.0</td>\n",
       "      <td>0.0</td>\n",
       "      <td>239853</td>\n",
       "      <td>0.0</td>\n",
       "      <td>NaN</td>\n",
       "      <td>S</td>\n",
       "      <td>NaN</td>\n",
       "      <td>NaN</td>\n",
       "      <td>Belfast</td>\n",
       "    </tr>\n",
       "    <tr>\n",
       "      <th>581</th>\n",
       "      <td>2.0</td>\n",
       "      <td>0.0</td>\n",
       "      <td>Watson, Mr. Ennis Hastings</td>\n",
       "      <td>male</td>\n",
       "      <td>NaN</td>\n",
       "      <td>0.0</td>\n",
       "      <td>0.0</td>\n",
       "      <td>239856</td>\n",
       "      <td>0.0</td>\n",
       "      <td>NaN</td>\n",
       "      <td>S</td>\n",
       "      <td>NaN</td>\n",
       "      <td>NaN</td>\n",
       "      <td>Belfast</td>\n",
       "    </tr>\n",
       "    <tr>\n",
       "      <th>896</th>\n",
       "      <td>3.0</td>\n",
       "      <td>0.0</td>\n",
       "      <td>Johnson, Mr. Alfred</td>\n",
       "      <td>male</td>\n",
       "      <td>49.0</td>\n",
       "      <td>0.0</td>\n",
       "      <td>0.0</td>\n",
       "      <td>LINE</td>\n",
       "      <td>0.0</td>\n",
       "      <td>NaN</td>\n",
       "      <td>S</td>\n",
       "      <td>NaN</td>\n",
       "      <td>NaN</td>\n",
       "      <td>NaN</td>\n",
       "    </tr>\n",
       "    <tr>\n",
       "      <th>898</th>\n",
       "      <td>3.0</td>\n",
       "      <td>0.0</td>\n",
       "      <td>Johnson, Mr. William Cahoone Jr</td>\n",
       "      <td>male</td>\n",
       "      <td>19.0</td>\n",
       "      <td>0.0</td>\n",
       "      <td>0.0</td>\n",
       "      <td>LINE</td>\n",
       "      <td>0.0</td>\n",
       "      <td>NaN</td>\n",
       "      <td>S</td>\n",
       "      <td>NaN</td>\n",
       "      <td>NaN</td>\n",
       "      <td>NaN</td>\n",
       "    </tr>\n",
       "    <tr>\n",
       "      <th>963</th>\n",
       "      <td>3.0</td>\n",
       "      <td>0.0</td>\n",
       "      <td>Leonard, Mr. Lionel</td>\n",
       "      <td>male</td>\n",
       "      <td>36.0</td>\n",
       "      <td>0.0</td>\n",
       "      <td>0.0</td>\n",
       "      <td>LINE</td>\n",
       "      <td>0.0</td>\n",
       "      <td>NaN</td>\n",
       "      <td>S</td>\n",
       "      <td>NaN</td>\n",
       "      <td>NaN</td>\n",
       "      <td>NaN</td>\n",
       "    </tr>\n",
       "    <tr>\n",
       "      <th>1254</th>\n",
       "      <td>3.0</td>\n",
       "      <td>1.0</td>\n",
       "      <td>Tornquist, Mr. William Henry</td>\n",
       "      <td>male</td>\n",
       "      <td>25.0</td>\n",
       "      <td>0.0</td>\n",
       "      <td>0.0</td>\n",
       "      <td>LINE</td>\n",
       "      <td>0.0</td>\n",
       "      <td>NaN</td>\n",
       "      <td>S</td>\n",
       "      <td>15</td>\n",
       "      <td>NaN</td>\n",
       "      <td>NaN</td>\n",
       "    </tr>\n",
       "  </tbody>\n",
       "</table>\n",
       "</div>"
      ],
      "text/plain": [
       "      pclass  survived                                   name   sex   age  \\\n",
       "7        1.0       0.0                 Andrews, Mr. Thomas Jr  male  39.0   \n",
       "70       1.0       0.0  Chisholm, Mr. Roderick Robert Crispin  male   NaN   \n",
       "125      1.0       0.0                       Fry, Mr. Richard  male   NaN   \n",
       "150      1.0       0.0                  Harrison, Mr. William  male  40.0   \n",
       "170      1.0       1.0                Ismay, Mr. Joseph Bruce  male  49.0   \n",
       "223      1.0       0.0          Parr, Mr. William Henry Marsh  male   NaN   \n",
       "234      1.0       0.0        Reuchlin, Jonkheer. John George  male  38.0   \n",
       "363      2.0       0.0                  Campbell, Mr. William  male   NaN   \n",
       "384      2.0       0.0         Cunningham, Mr. Alfred Fleming  male   NaN   \n",
       "410      2.0       0.0       Frost, Mr. Anthony Wood \"Archie\"  male   NaN   \n",
       "473      2.0       0.0                   Knight, Mr. Robert J  male   NaN   \n",
       "528      2.0       0.0            Parkes, Mr. Francis \"Frank\"  male   NaN   \n",
       "581      2.0       0.0             Watson, Mr. Ennis Hastings  male   NaN   \n",
       "896      3.0       0.0                    Johnson, Mr. Alfred  male  49.0   \n",
       "898      3.0       0.0        Johnson, Mr. William Cahoone Jr  male  19.0   \n",
       "963      3.0       0.0                    Leonard, Mr. Lionel  male  36.0   \n",
       "1254     3.0       1.0           Tornquist, Mr. William Henry  male  25.0   \n",
       "\n",
       "      sibsp  parch  ticket  fare        cabin embarked boat   body  \\\n",
       "7       0.0    0.0  112050   0.0          A36        S  NaN    NaN   \n",
       "70      0.0    0.0  112051   0.0          NaN        S  NaN    NaN   \n",
       "125     0.0    0.0  112058   0.0         B102        S  NaN    NaN   \n",
       "150     0.0    0.0  112059   0.0          B94        S  NaN  110.0   \n",
       "170     0.0    0.0  112058   0.0  B52 B54 B56        S    C    NaN   \n",
       "223     0.0    0.0  112052   0.0          NaN        S  NaN    NaN   \n",
       "234     0.0    0.0   19972   0.0          NaN        S  NaN    NaN   \n",
       "363     0.0    0.0  239853   0.0          NaN        S  NaN    NaN   \n",
       "384     0.0    0.0  239853   0.0          NaN        S  NaN    NaN   \n",
       "410     0.0    0.0  239854   0.0          NaN        S  NaN    NaN   \n",
       "473     0.0    0.0  239855   0.0          NaN        S  NaN    NaN   \n",
       "528     0.0    0.0  239853   0.0          NaN        S  NaN    NaN   \n",
       "581     0.0    0.0  239856   0.0          NaN        S  NaN    NaN   \n",
       "896     0.0    0.0    LINE   0.0          NaN        S  NaN    NaN   \n",
       "898     0.0    0.0    LINE   0.0          NaN        S  NaN    NaN   \n",
       "963     0.0    0.0    LINE   0.0          NaN        S  NaN    NaN   \n",
       "1254    0.0    0.0    LINE   0.0          NaN        S   15    NaN   \n",
       "\n",
       "                         home.dest  \n",
       "7                      Belfast, NI  \n",
       "70    Liverpool, England / Belfast  \n",
       "125                            NaN  \n",
       "150                            NaN  \n",
       "170                      Liverpool  \n",
       "223                        Belfast  \n",
       "234         Rotterdam, Netherlands  \n",
       "363                        Belfast  \n",
       "384                        Belfast  \n",
       "410                        Belfast  \n",
       "473                        Belfast  \n",
       "528                        Belfast  \n",
       "581                        Belfast  \n",
       "896                            NaN  \n",
       "898                            NaN  \n",
       "963                            NaN  \n",
       "1254                           NaN  "
      ]
     },
     "execution_count": 27,
     "metadata": {},
     "output_type": "execute_result"
    }
   ],
   "source": [
    "df[df[\"fare\"]==0]"
   ]
  },
  {
   "cell_type": "markdown",
   "metadata": {},
   "source": [
    "Widać, że te rekordy z ceną zero jakoś się grupują po serii biletów i po nazwiskach. Jest tam kilka przypadków z numerem biletu \"LINE\", jest kilka przypadków z numerami w okolicy 239853, 4, 5, 6  i kilka przypadków z numerami biletów w okolicy 112050, 1, 2, 3....\n",
    "\n",
    "Przy okazji już widać, że numery biletów nie są unikalne i się powtarzają. Co to może znaczyć? Sfałszowane bilety czy pomyłki?"
   ]
  },
  {
   "cell_type": "markdown",
   "metadata": {},
   "source": [
    "# Analiza brakujących wartości"
   ]
  },
  {
   "cell_type": "markdown",
   "metadata": {},
   "source": [
    "Robię ten krok gwoli formalności. Z poprzedniej analizy już widać ile danych brakuje."
   ]
  },
  {
   "cell_type": "code",
   "execution_count": 32,
   "metadata": {},
   "outputs": [
    {
     "data": {
      "text/plain": [
       "pclass          1\n",
       "survived        1\n",
       "name            1\n",
       "sex             1\n",
       "age           264\n",
       "sibsp           1\n",
       "parch           1\n",
       "ticket          1\n",
       "fare            2\n",
       "cabin        1015\n",
       "embarked        3\n",
       "boat          824\n",
       "body         1189\n",
       "home.dest     565\n",
       "dtype: int64"
      ]
     },
     "execution_count": 32,
     "metadata": {},
     "output_type": "execute_result"
    }
   ],
   "source": [
    "df.isnull().sum()"
   ]
  },
  {
   "cell_type": "markdown",
   "metadata": {},
   "source": [
    "Sprawdźmy jeszcze czy są jakieś rekordy zduplikowane."
   ]
  },
  {
   "cell_type": "code",
   "execution_count": 35,
   "metadata": {},
   "outputs": [
    {
     "data": {
      "text/plain": [
       "False    1310\n",
       "Name: Duplikat, dtype: int64"
      ]
     },
     "execution_count": 35,
     "metadata": {},
     "output_type": "execute_result"
    }
   ],
   "source": [
    "df[\"Duplikat\"] = df.duplicated()\n",
    "df[\"Duplikat\"].value_counts()"
   ]
  },
  {
   "cell_type": "markdown",
   "metadata": {},
   "source": [
    "Nie ma duplikatów. Super."
   ]
  },
  {
   "cell_type": "markdown",
   "metadata": {},
   "source": [
    "Wyrzucę kolumnę z informacją o duplikacie bo będzie mi później przeszkadzać."
   ]
  },
  {
   "cell_type": "code",
   "execution_count": 39,
   "metadata": {},
   "outputs": [],
   "source": [
    "df.drop(columns=[\"Duplikat\"], inplace=True)"
   ]
  },
  {
   "cell_type": "markdown",
   "metadata": {},
   "source": [
    "# Analiza pojedyńczych zmiennych"
   ]
  },
  {
   "cell_type": "markdown",
   "metadata": {},
   "source": [
    "Podczas analizy pojedyńczych zmiennych z naszej bazy danych będę porównywał zawarte tam informacje z Wikipedią aby ocenić wiarygodność i przydatność tych danych."
   ]
  },
  {
   "cell_type": "markdown",
   "metadata": {},
   "source": [
    "Zobaczmy po ile wartości unikalnych mamy w każdej kolumnie."
   ]
  },
  {
   "cell_type": "code",
   "execution_count": 44,
   "metadata": {},
   "outputs": [
    {
     "data": {
      "text/plain": [
       "pclass          3\n",
       "survived        2\n",
       "name         1307\n",
       "sex             2\n",
       "age            98\n",
       "sibsp           7\n",
       "parch           8\n",
       "ticket        929\n",
       "fare          281\n",
       "cabin         186\n",
       "embarked        3\n",
       "boat           27\n",
       "body          121\n",
       "home.dest     369\n",
       "dtype: int64"
      ]
     },
     "execution_count": 44,
     "metadata": {},
     "output_type": "execute_result"
    }
   ],
   "source": [
    "df.nunique()"
   ]
  },
  {
   "cell_type": "markdown",
   "metadata": {},
   "source": [
    "## Klasa"
   ]
  },
  {
   "cell_type": "code",
   "execution_count": 47,
   "metadata": {},
   "outputs": [
    {
     "data": {
      "text/plain": [
       "3.0    709\n",
       "1.0    323\n",
       "2.0    277\n",
       "Name: pclass, dtype: int64"
      ]
     },
     "execution_count": 47,
     "metadata": {},
     "output_type": "execute_result"
    }
   ],
   "source": [
    "df[\"pclass\"].value_counts()"
   ]
  },
  {
   "cell_type": "markdown",
   "metadata": {},
   "source": [
    "W naszych danych mamy na liście 323 pasażerów klasy pierwszej, 323 pasażerów klasy drugiej i 709 pasażerów klasy trzeciej. W Wikipedii czytamy, że na pokładzie było 329 pasażerów klasy pierwszej, 272 pasażerów klasy drugiej i 710 pasażerów klasy trzeciej.\n",
    "\n",
    "Gdybym rzeczywiście dostał od klienta bazę, w której informacje w taki sposób różniłyby się od danych powszechnie znanych (np. publikowanych w raporcie rocznym) to poprosiłbym klienta o weryfikację tych liczb. W samej bazie danych bardzo trudno będzie wskazać informacje, które pozwolą na ewentualną korektę poprawności przypisania klas do pasażerów. Może ewentualnie znalazłby by się przypadki, w których członkowie jednej rodziny podróżowali w różnych klasach i na tej podstawie możnaby wyciągać wnioski odnośnie ewenutualnej korekty błędu. Będzie to jednak zabawa dość ryzykowna i nie gwarantująca rzeczywistej poprawy jakości tych danych.\n",
    "\n",
    "Zostawiam - nie przesuwam pasażerów między klasami."
   ]
  },
  {
   "cell_type": "markdown",
   "metadata": {},
   "source": [
    "## Przeżywalność"
   ]
  },
  {
   "cell_type": "code",
   "execution_count": 51,
   "metadata": {},
   "outputs": [
    {
     "data": {
      "text/plain": [
       "0.0    809\n",
       "1.0    500\n",
       "Name: survived, dtype: int64"
      ]
     },
     "execution_count": 51,
     "metadata": {},
     "output_type": "execute_result"
    }
   ],
   "source": [
    "df[\"survived\"].value_counts()"
   ]
  },
  {
   "cell_type": "markdown",
   "metadata": {},
   "source": [
    "Mamy 500 ocalałych, a Wikipedia mówi o 492 ocalałych pasażerach. Ten sam  komentarz co powyżej. Nie poprawiam, bo nie mam jak tego uwiarygodnić. Gdybym miał jakąś drugą listę to może po nazwiskach, ale wtedy powstaje pytanie, która lista jest właściwa."
   ]
  },
  {
   "cell_type": "markdown",
   "metadata": {},
   "source": [
    "## Nazwisko"
   ]
  },
  {
   "cell_type": "markdown",
   "metadata": {},
   "source": [
    "Popatrzmy na nazwiska"
   ]
  },
  {
   "cell_type": "code",
   "execution_count": 56,
   "metadata": {},
   "outputs": [
    {
     "data": {
      "text/plain": [
       "Kelly, Mr. James                     2\n",
       "Connolly, Miss. Kate                 2\n",
       "Ilmakangas, Miss. Ida Livija         1\n",
       "Ilieff, Mr. Ylio                     1\n",
       "Ibrahim Shawah, Mr. Yousseff         1\n",
       "                                    ..\n",
       "Harris, Mr. George                   1\n",
       "Harper, Rev. John                    1\n",
       "Harper, Miss. Annie Jessie \"Nina\"    1\n",
       "Harbeck, Mr. William H               1\n",
       "Herman, Mr. Samuel                   1\n",
       "Name: name, Length: 1307, dtype: int64"
      ]
     },
     "execution_count": 56,
     "metadata": {},
     "output_type": "execute_result"
    }
   ],
   "source": [
    "df[\"name\"].value_counts()"
   ]
  },
  {
   "cell_type": "markdown",
   "metadata": {},
   "source": [
    "Widać, że ta kolumna jest wypełniona w sposób bardzo utrudniający analizę. Trzeba będzie coś z nią zrobić - wydzielić nazwiska, oddzielić tytuły i imiona"
   ]
  },
  {
   "cell_type": "markdown",
   "metadata": {},
   "source": [
    "## Płeć"
   ]
  },
  {
   "cell_type": "code",
   "execution_count": 60,
   "metadata": {},
   "outputs": [
    {
     "data": {
      "text/plain": [
       "male      843\n",
       "female    466\n",
       "Name: sex, dtype: int64"
      ]
     },
     "execution_count": 60,
     "metadata": {},
     "output_type": "execute_result"
    }
   ],
   "source": [
    "df[\"sex\"].value_counts()"
   ]
  },
  {
   "cell_type": "markdown",
   "metadata": {},
   "source": [
    "Wśród pasażerów widać było wyraźną przewagę mężczyzn."
   ]
  },
  {
   "cell_type": "markdown",
   "metadata": {},
   "source": [
    "## Wiek"
   ]
  },
  {
   "cell_type": "markdown",
   "metadata": {},
   "source": [
    "Tutaj pokuszę się o wykres"
   ]
  },
  {
   "cell_type": "code",
   "execution_count": 65,
   "metadata": {},
   "outputs": [
    {
     "data": {
      "text/plain": [
       "array([[<Axes: title={'center': 'age'}>]], dtype=object)"
      ]
     },
     "execution_count": 65,
     "metadata": {},
     "output_type": "execute_result"
    },
    {
     "data": {
      "image/png": "[encoded data removed]",
      "text/plain": [
       "<Figure size 640x480 with 1 Axes>"
      ]
     },
     "metadata": {},
     "output_type": "display_data"
    }
   ],
   "source": [
    "df.hist('age')"
   ]
  },
  {
   "cell_type": "markdown",
   "metadata": {},
   "source": [
    "Wielu młodych ludzi. To pewnie obraz emigracji na drugą stronę Atlantyku."
   ]
  },
  {
   "cell_type": "markdown",
   "metadata": {},
   "source": [
    "## Rodzeństwo"
   ]
  },
  {
   "cell_type": "code",
   "execution_count": 69,
   "metadata": {},
   "outputs": [
    {
     "data": {
      "text/plain": [
       "0.0    891\n",
       "1.0    319\n",
       "2.0     42\n",
       "4.0     22\n",
       "3.0     20\n",
       "8.0      9\n",
       "5.0      6\n",
       "Name: sibsp, dtype: int64"
      ]
     },
     "execution_count": 69,
     "metadata": {},
     "output_type": "execute_result"
    }
   ],
   "source": [
    "df[\"sibsp\"].value_counts()"
   ]
  },
  {
   "cell_type": "markdown",
   "metadata": {},
   "source": [
    "Dane w tej kolumnie wygladają bardzo dobrze, z punktu widzenia możliwości analizy. Nie wiem tylko czy będą przydatne."
   ]
  },
  {
   "cell_type": "markdown",
   "metadata": {},
   "source": [
    "## Rodzice i dzieci"
   ]
  },
  {
   "cell_type": "code",
   "execution_count": 73,
   "metadata": {},
   "outputs": [
    {
     "data": {
      "text/plain": [
       "0.0    1002\n",
       "1.0     170\n",
       "2.0     113\n",
       "3.0       8\n",
       "4.0       6\n",
       "5.0       6\n",
       "6.0       2\n",
       "9.0       2\n",
       "Name: parch, dtype: int64"
      ]
     },
     "execution_count": 73,
     "metadata": {},
     "output_type": "execute_result"
    }
   ],
   "source": [
    "df[\"parch\"].value_counts()"
   ]
  },
  {
   "cell_type": "markdown",
   "metadata": {},
   "source": [
    "Podobnie jak w przypadku rodzeństwa - dobre dane tylko nie wiem czy się do czegoś przydadzą."
   ]
  },
  {
   "cell_type": "markdown",
   "metadata": {},
   "source": [
    "## Numer biletu"
   ]
  },
  {
   "cell_type": "markdown",
   "metadata": {},
   "source": [
    "Mamy 929 unikalnych numerów biletów na 1310 pasażerów. Widziałem, że są tam bilety z wpisem \"LINE\" - tak jakby sprzedawane przez inną organizację."
   ]
  },
  {
   "cell_type": "code",
   "execution_count": 78,
   "metadata": {},
   "outputs": [
    {
     "name": "stdout",
     "output_type": "stream",
     "text": [
      "Liczba biletów typu LINE: 4\n"
     ]
    }
   ],
   "source": [
    "line_tickets_count = df[df['ticket'] == 'LINE'].shape[0]\n",
    "print(\"Liczba biletów typu LINE:\", line_tickets_count)"
   ]
  },
  {
   "cell_type": "markdown",
   "metadata": {},
   "source": [
    "Tylko cztery, czyli reszta dublujących się numerów biletów to najprawdopodobniej pomyłki lub fałszywki. Sporo! Podrążę jeszcze ten temat."
   ]
  },
  {
   "cell_type": "code",
   "execution_count": 81,
   "metadata": {},
   "outputs": [],
   "source": [
    "df['Zduplikowany Bilet'] = df.duplicated(subset=['ticket'])"
   ]
  },
  {
   "cell_type": "code",
   "execution_count": 83,
   "metadata": {},
   "outputs": [
    {
     "data": {
      "text/plain": [
       "ticket\n",
       "CA. 2343        10\n",
       "CA 2144          7\n",
       "1601             7\n",
       "PC 17608         6\n",
       "S.O.C. 14879     6\n",
       "                ..\n",
       "2665             1\n",
       "26707            1\n",
       "2680             1\n",
       "2689             1\n",
       "250651           1\n",
       "Length: 216, dtype: int64"
      ]
     },
     "execution_count": 83,
     "metadata": {},
     "output_type": "execute_result"
    }
   ],
   "source": [
    "df[df[\"Zduplikowany Bilet\"]==True].value_counts(\"ticket\")"
   ]
  },
  {
   "cell_type": "code",
   "execution_count": 85,
   "metadata": {},
   "outputs": [
    {
     "data": {
      "text/plain": [
       "pclass                  3\n",
       "survived                2\n",
       "name                  380\n",
       "sex                     2\n",
       "age                    74\n",
       "sibsp                   7\n",
       "parch                   8\n",
       "ticket                216\n",
       "fare                  147\n",
       "cabin                  94\n",
       "embarked                3\n",
       "boat                   22\n",
       "body                   26\n",
       "home.dest             139\n",
       "Zduplikowany Bilet      1\n",
       "dtype: int64"
      ]
     },
     "execution_count": 85,
     "metadata": {},
     "output_type": "execute_result"
    }
   ],
   "source": [
    "df[df[\"Zduplikowany Bilet\"]==True].nunique()"
   ]
  },
  {
   "cell_type": "markdown",
   "metadata": {},
   "source": [
    "Zatem mamy 216 różnych numerów biletów, z których każdy występuje po 2 lub więcej razy. Nie wiem czy będę potrzebował do dalszych analiz numerów biletów, ale jeśli tak to jest to problem. Bo te dane wydają się bardzo mało przydatne.\n",
    "\n",
    "Wyrzucam kolumnę z informacją o zduplikowanym bilecie."
   ]
  },
  {
   "cell_type": "code",
   "execution_count": 88,
   "metadata": {},
   "outputs": [],
   "source": [
    "df.drop(columns=[\"Zduplikowany Bilet\"], inplace=True)"
   ]
  },
  {
   "cell_type": "markdown",
   "metadata": {},
   "source": [
    "## Taryfa"
   ]
  },
  {
   "cell_type": "markdown",
   "metadata": {},
   "source": [
    "Zobaczmy to na wykresie"
   ]
  },
  {
   "cell_type": "code",
   "execution_count": 92,
   "metadata": {},
   "outputs": [
    {
     "data": {
      "text/plain": [
       "array([[<Axes: title={'center': 'fare'}>]], dtype=object)"
      ]
     },
     "execution_count": 92,
     "metadata": {},
     "output_type": "execute_result"
    },
    {
     "data": {
      "image/png": "[encoded data removed]",
      "text/plain": [
       "<Figure size 640x480 with 1 Axes>"
      ]
     },
     "metadata": {},
     "output_type": "display_data"
    }
   ],
   "source": [
    "df.hist('fare')"
   ]
  },
  {
   "cell_type": "markdown",
   "metadata": {},
   "source": [
    "Najniższa taryfa dominuje, więc reszty nie widać. Zrobię listę."
   ]
  },
  {
   "cell_type": "code",
   "execution_count": 95,
   "metadata": {},
   "outputs": [
    {
     "data": {
      "text/plain": [
       "8.0500     60\n",
       "13.0000    59\n",
       "7.7500     55\n",
       "26.0000    50\n",
       "7.8958     49\n",
       "           ..\n",
       "7.2833      1\n",
       "7.8208      1\n",
       "9.6875      1\n",
       "15.0500     1\n",
       "12.7375     1\n",
       "Name: fare, Length: 281, dtype: int64"
      ]
     },
     "execution_count": 95,
     "metadata": {},
     "output_type": "execute_result"
    }
   ],
   "source": [
    "df['fare'].value_counts()"
   ]
  },
  {
   "cell_type": "markdown",
   "metadata": {},
   "source": [
    "Tak też niewiele widać. Może tak?"
   ]
  },
  {
   "cell_type": "code",
   "execution_count": 98,
   "metadata": {},
   "outputs": [
    {
     "data": {
      "text/plain": [
       "<Axes: >"
      ]
     },
     "execution_count": 98,
     "metadata": {},
     "output_type": "execute_result"
    },
    {
     "data": {
      "image/png": "[encoded data removed]",
      "text/plain": [
       "<Figure size 640x480 with 1 Axes>"
      ]
     },
     "metadata": {},
     "output_type": "display_data"
    }
   ],
   "source": [
    "df['fare'].plot(kind='box')"
   ]
  },
  {
   "cell_type": "markdown",
   "metadata": {},
   "source": [
    "... też słabo..."
   ]
  },
  {
   "cell_type": "code",
   "execution_count": 101,
   "metadata": {},
   "outputs": [
    {
     "data": {
      "text/plain": [
       "count    1308.000000\n",
       "mean       33.295479\n",
       "std        51.758668\n",
       "min         0.000000\n",
       "25%         7.895800\n",
       "50%        14.454200\n",
       "75%        31.275000\n",
       "max       512.329200\n",
       "Name: fare, dtype: float64"
      ]
     },
     "execution_count": 101,
     "metadata": {},
     "output_type": "execute_result"
    }
   ],
   "source": [
    "df['fare'].describe()"
   ]
  },
  {
   "cell_type": "markdown",
   "metadata": {},
   "source": [
    "Chyba tylko tak możemy coś wyczytać. Tyle, że trzeba wyeliminować zerowe ceny z analizy."
   ]
  },
  {
   "cell_type": "markdown",
   "metadata": {},
   "source": [
    "## Kabiny"
   ]
  },
  {
   "cell_type": "code",
   "execution_count": 105,
   "metadata": {},
   "outputs": [
    {
     "data": {
      "text/plain": [
       "C23 C25 C27        6\n",
       "G6                 5\n",
       "B57 B59 B63 B66    5\n",
       "C78                4\n",
       "F4                 4\n",
       "                  ..\n",
       "F E69              1\n",
       "E10                1\n",
       "A5                 1\n",
       "C51                1\n",
       "B42                1\n",
       "Name: cabin, Length: 186, dtype: int64"
      ]
     },
     "execution_count": 105,
     "metadata": {},
     "output_type": "execute_result"
    }
   ],
   "source": [
    "df['cabin'].value_counts()"
   ]
  },
  {
   "cell_type": "markdown",
   "metadata": {},
   "source": [
    "Witać, że jest trochę bałaganu w tych danych, ale może to jest logiczne. W końcu w jednej kabinie może mieszkać wiecej osób oraz może też być tak, że jedna osoba zajmuje wiele kabin. Może też być tak, że kilka kabin jest łącznie przypisane do kilku osób (do rodziny). Zobaczmy..."
   ]
  },
  {
   "cell_type": "code",
   "execution_count": 108,
   "metadata": {},
   "outputs": [
    {
     "data": {
      "text/html": [
       "<div>\n",
       "<style scoped>\n",
       "    .dataframe tbody tr th:only-of-type {\n",
       "        vertical-align: middle;\n",
       "    }\n",
       "\n",
       "    .dataframe tbody tr th {\n",
       "        vertical-align: top;\n",
       "    }\n",
       "\n",
       "    .dataframe thead th {\n",
       "        text-align: right;\n",
       "    }\n",
       "</style>\n",
       "<table border=\"1\" class=\"dataframe\">\n",
       "  <thead>\n",
       "    <tr style=\"text-align: right;\">\n",
       "      <th></th>\n",
       "      <th>pclass</th>\n",
       "      <th>survived</th>\n",
       "      <th>name</th>\n",
       "      <th>sex</th>\n",
       "      <th>age</th>\n",
       "      <th>sibsp</th>\n",
       "      <th>parch</th>\n",
       "      <th>ticket</th>\n",
       "      <th>fare</th>\n",
       "      <th>cabin</th>\n",
       "      <th>embarked</th>\n",
       "      <th>boat</th>\n",
       "      <th>body</th>\n",
       "      <th>home.dest</th>\n",
       "    </tr>\n",
       "  </thead>\n",
       "  <tbody>\n",
       "    <tr>\n",
       "      <th>111</th>\n",
       "      <td>1.0</td>\n",
       "      <td>1.0</td>\n",
       "      <td>Fortune, Miss. Alice Elizabeth</td>\n",
       "      <td>female</td>\n",
       "      <td>24.0</td>\n",
       "      <td>3.0</td>\n",
       "      <td>2.0</td>\n",
       "      <td>19950</td>\n",
       "      <td>263.0</td>\n",
       "      <td>C23 C25 C27</td>\n",
       "      <td>S</td>\n",
       "      <td>10</td>\n",
       "      <td>NaN</td>\n",
       "      <td>Winnipeg, MB</td>\n",
       "    </tr>\n",
       "    <tr>\n",
       "      <th>112</th>\n",
       "      <td>1.0</td>\n",
       "      <td>1.0</td>\n",
       "      <td>Fortune, Miss. Ethel Flora</td>\n",
       "      <td>female</td>\n",
       "      <td>28.0</td>\n",
       "      <td>3.0</td>\n",
       "      <td>2.0</td>\n",
       "      <td>19950</td>\n",
       "      <td>263.0</td>\n",
       "      <td>C23 C25 C27</td>\n",
       "      <td>S</td>\n",
       "      <td>10</td>\n",
       "      <td>NaN</td>\n",
       "      <td>Winnipeg, MB</td>\n",
       "    </tr>\n",
       "    <tr>\n",
       "      <th>113</th>\n",
       "      <td>1.0</td>\n",
       "      <td>1.0</td>\n",
       "      <td>Fortune, Miss. Mabel Helen</td>\n",
       "      <td>female</td>\n",
       "      <td>23.0</td>\n",
       "      <td>3.0</td>\n",
       "      <td>2.0</td>\n",
       "      <td>19950</td>\n",
       "      <td>263.0</td>\n",
       "      <td>C23 C25 C27</td>\n",
       "      <td>S</td>\n",
       "      <td>10</td>\n",
       "      <td>NaN</td>\n",
       "      <td>Winnipeg, MB</td>\n",
       "    </tr>\n",
       "    <tr>\n",
       "      <th>114</th>\n",
       "      <td>1.0</td>\n",
       "      <td>0.0</td>\n",
       "      <td>Fortune, Mr. Charles Alexander</td>\n",
       "      <td>male</td>\n",
       "      <td>19.0</td>\n",
       "      <td>3.0</td>\n",
       "      <td>2.0</td>\n",
       "      <td>19950</td>\n",
       "      <td>263.0</td>\n",
       "      <td>C23 C25 C27</td>\n",
       "      <td>S</td>\n",
       "      <td>NaN</td>\n",
       "      <td>NaN</td>\n",
       "      <td>Winnipeg, MB</td>\n",
       "    </tr>\n",
       "    <tr>\n",
       "      <th>115</th>\n",
       "      <td>1.0</td>\n",
       "      <td>0.0</td>\n",
       "      <td>Fortune, Mr. Mark</td>\n",
       "      <td>male</td>\n",
       "      <td>64.0</td>\n",
       "      <td>1.0</td>\n",
       "      <td>4.0</td>\n",
       "      <td>19950</td>\n",
       "      <td>263.0</td>\n",
       "      <td>C23 C25 C27</td>\n",
       "      <td>S</td>\n",
       "      <td>NaN</td>\n",
       "      <td>NaN</td>\n",
       "      <td>Winnipeg, MB</td>\n",
       "    </tr>\n",
       "    <tr>\n",
       "      <th>116</th>\n",
       "      <td>1.0</td>\n",
       "      <td>1.0</td>\n",
       "      <td>Fortune, Mrs. Mark (Mary McDougald)</td>\n",
       "      <td>female</td>\n",
       "      <td>60.0</td>\n",
       "      <td>1.0</td>\n",
       "      <td>4.0</td>\n",
       "      <td>19950</td>\n",
       "      <td>263.0</td>\n",
       "      <td>C23 C25 C27</td>\n",
       "      <td>S</td>\n",
       "      <td>10</td>\n",
       "      <td>NaN</td>\n",
       "      <td>Winnipeg, MB</td>\n",
       "    </tr>\n",
       "  </tbody>\n",
       "</table>\n",
       "</div>"
      ],
      "text/plain": [
       "     pclass  survived                                 name     sex   age  \\\n",
       "111     1.0       1.0       Fortune, Miss. Alice Elizabeth  female  24.0   \n",
       "112     1.0       1.0           Fortune, Miss. Ethel Flora  female  28.0   \n",
       "113     1.0       1.0           Fortune, Miss. Mabel Helen  female  23.0   \n",
       "114     1.0       0.0       Fortune, Mr. Charles Alexander    male  19.0   \n",
       "115     1.0       0.0                    Fortune, Mr. Mark    male  64.0   \n",
       "116     1.0       1.0  Fortune, Mrs. Mark (Mary McDougald)  female  60.0   \n",
       "\n",
       "     sibsp  parch ticket   fare        cabin embarked boat  body     home.dest  \n",
       "111    3.0    2.0  19950  263.0  C23 C25 C27        S   10   NaN  Winnipeg, MB  \n",
       "112    3.0    2.0  19950  263.0  C23 C25 C27        S   10   NaN  Winnipeg, MB  \n",
       "113    3.0    2.0  19950  263.0  C23 C25 C27        S   10   NaN  Winnipeg, MB  \n",
       "114    3.0    2.0  19950  263.0  C23 C25 C27        S  NaN   NaN  Winnipeg, MB  \n",
       "115    1.0    4.0  19950  263.0  C23 C25 C27        S  NaN   NaN  Winnipeg, MB  \n",
       "116    1.0    4.0  19950  263.0  C23 C25 C27        S   10   NaN  Winnipeg, MB  "
      ]
     },
     "execution_count": 108,
     "metadata": {},
     "output_type": "execute_result"
    }
   ],
   "source": [
    "df[df['cabin']=='C23 C25 C27']"
   ]
  },
  {
   "cell_type": "markdown",
   "metadata": {},
   "source": [
    "Widać, że w tym zestawie trzech kabin mieszkała rodzina z czwórką dzieci. W dodatku można zobaczyć, że 5 z tych sześciu osób popłynęło na jednym numerze biletu."
   ]
  },
  {
   "cell_type": "markdown",
   "metadata": {},
   "source": [
    "Ogólnie dane o numerach kabin wydają sie niekompletne i trudne do wykorzystania.\n",
    "- po pierwsze brakuje wpisów w ponad 1000 rekordów, podczas gdy pasażerów klasy 3 (jak przypuszczam, bez kabiny) było tylko 700.\n",
    "- wpisy się dublują w różnych kombinacjach i niejednokrotnie te zdublowane dane wcale nie świadczą o błędach"
   ]
  },
  {
   "cell_type": "markdown",
   "metadata": {},
   "source": [
    "## Miejsce, gdzie wsiedli"
   ]
  },
  {
   "cell_type": "code",
   "execution_count": 113,
   "metadata": {},
   "outputs": [
    {
     "data": {
      "text/plain": [
       "S    914\n",
       "C    270\n",
       "Q    123\n",
       "Name: embarked, dtype: int64"
      ]
     },
     "execution_count": 113,
     "metadata": {},
     "output_type": "execute_result"
    }
   ],
   "source": [
    "df['embarked'].value_counts()"
   ]
  },
  {
   "cell_type": "markdown",
   "metadata": {},
   "source": [
    "Litery oznaczają Southampton, Cherburg i Queenstown"
   ]
  },
  {
   "cell_type": "markdown",
   "metadata": {},
   "source": [
    "## Łodzie ratunkowe"
   ]
  },
  {
   "cell_type": "code",
   "execution_count": 117,
   "metadata": {},
   "outputs": [
    {
     "data": {
      "text/plain": [
       "13         39\n",
       "C          38\n",
       "15         37\n",
       "14         33\n",
       "4          31\n",
       "10         29\n",
       "5          27\n",
       "3          26\n",
       "9          25\n",
       "11         25\n",
       "8          23\n",
       "16         23\n",
       "7          23\n",
       "D          20\n",
       "6          20\n",
       "12         19\n",
       "2          13\n",
       "A          11\n",
       "B           9\n",
       "1           5\n",
       "13 15       2\n",
       "5 7         2\n",
       "C D         2\n",
       "5 9         1\n",
       "8 10        1\n",
       "13 15 B     1\n",
       "15 16       1\n",
       "Name: boat, dtype: int64"
      ]
     },
     "execution_count": 117,
     "metadata": {},
     "output_type": "execute_result"
    }
   ],
   "source": [
    "df['boat'].value_counts()"
   ]
  },
  {
   "cell_type": "markdown",
   "metadata": {},
   "source": [
    "Widać, że z danymi o łodziach ratunkowych będzie kłopot. Mamy liczby i litery. Do niektórych osób przypisane są dwie lub nawet 3 łodzie. Taka sytuacja mogła dotyczyć kabin, ale nie łodzi ratunkowych. W Wikipedii czytamy, że na statku było 16 szalup. To zgadzałoby się z numerami występującymi w bazie danych, ale co oznaczają litery (A, B, C i D)?"
   ]
  },
  {
   "cell_type": "markdown",
   "metadata": {},
   "source": [
    "## Czy znaleziono ciało"
   ]
  },
  {
   "cell_type": "markdown",
   "metadata": {},
   "source": [
    "Tutaj należałoby przeanalizować tylko te przypadki, w których dana osoba zginęła. Zobaczmy jak te  dane wyglądają."
   ]
  },
  {
   "cell_type": "code",
   "execution_count": 122,
   "metadata": {},
   "outputs": [
    {
     "data": {
      "text/plain": [
       "304.0    1\n",
       "7.0      1\n",
       "32.0     1\n",
       "67.0     1\n",
       "284.0    1\n",
       "        ..\n",
       "208.0    1\n",
       "172.0    1\n",
       "269.0    1\n",
       "62.0     1\n",
       "133.0    1\n",
       "Name: body, Length: 121, dtype: int64"
      ]
     },
     "execution_count": 122,
     "metadata": {},
     "output_type": "execute_result"
    }
   ],
   "source": [
    "df['body'].value_counts()"
   ]
  },
  {
   "cell_type": "code",
   "execution_count": 124,
   "metadata": {},
   "outputs": [
    {
     "data": {
      "text/plain": [
       "body\n",
       "328.0    1\n",
       "293.0    1\n",
       "294.0    1\n",
       "295.0    1\n",
       "297.0    1\n",
       "        ..\n",
       "14.0     1\n",
       "15.0     1\n",
       "16.0     1\n",
       "17.0     1\n",
       "18.0     1\n",
       "Length: 121, dtype: int64"
      ]
     },
     "execution_count": 124,
     "metadata": {},
     "output_type": "execute_result"
    }
   ],
   "source": [
    "df[df['survived']==False].value_counts('body')"
   ]
  },
  {
   "cell_type": "markdown",
   "metadata": {},
   "source": [
    "OK, widać, że nie ma błędów - wszystkie numery ciał przypisane są do zmarłych, nie do żyjących."
   ]
  },
  {
   "cell_type": "markdown",
   "metadata": {},
   "source": [
    "## Początek i cel podróży"
   ]
  },
  {
   "cell_type": "code",
   "execution_count": 128,
   "metadata": {},
   "outputs": [
    {
     "data": {
      "text/plain": [
       "New York, NY                         64\n",
       "London                               14\n",
       "Montreal, PQ                         10\n",
       "Paris, France                         9\n",
       "Cornwall / Akron, OH                  9\n",
       "                                     ..\n",
       "Birkdale, England Cleveland, Ohio     1\n",
       "London / Winnipeg, MB                 1\n",
       "Cooperstown, NY                       1\n",
       "Pomeroy, WA                           1\n",
       "Omaha, NE                             1\n",
       "Name: home.dest, Length: 369, dtype: int64"
      ]
     },
     "execution_count": 128,
     "metadata": {},
     "output_type": "execute_result"
    }
   ],
   "source": [
    "df['home.dest'].value_counts()"
   ]
  },
  {
   "cell_type": "code",
   "execution_count": 130,
   "metadata": {},
   "outputs": [
    {
     "data": {
      "text/plain": [
       "565"
      ]
     },
     "execution_count": 130,
     "metadata": {},
     "output_type": "execute_result"
    }
   ],
   "source": [
    "df['home.dest'].isnull().sum()"
   ]
  },
  {
   "cell_type": "markdown",
   "metadata": {},
   "source": [
    "565 brakujących wpisów. Dodatkowo widać, że w jednej komórce zapisano skąd i dokąd ktoś płynął. Spróbuję je trochę poprawić ale nie  będzie łatwo."
   ]
  },
  {
   "cell_type": "markdown",
   "metadata": {},
   "source": [
    "# Transformacja danych"
   ]
  },
  {
   "cell_type": "markdown",
   "metadata": {},
   "source": [
    "Z analizy poszczególnych kolumn z danymi widać, że dla poprawnej analizy część danych wymaga korekty:\n",
    "1. Zakładam, że wynikiem mojej analizy powinien być raport po polsku więc zmienię nazwy kolumn na polskie.\n",
    "2. Jeśli do analizy potrzebne będą nazwiska to trzeba je będzie uporządkować. Spróbuję oddzielić nazwisko, imię i tytuł do trzech różnych kolumn.\n",
    "3. W kolumnie z nazwiskami brakuje dwóch wpisów. Uzupełnię je zapisem \"Tożsamość Nieznana\" żeby nie tracić tych danych w dalszej analizie\n",
    "4. Nie będę uzupełniał brakujących danych o wieku. Przy analizach, w których wiek ma znaczenie ominę te rekordy.\n",
    "5. Dane z numerammi biletów wymagają grubej poprawki. Gdybym z jakiegoś powodu chciał wykorzystywać numery biletów do dalszych analiz to musiałbym najpierw, z innego źródła dowiedzieć się jak wyglądał system numeracji biletów i co oznaczają różne liczby i litery. Wtedy, być może udałoby się trochę ponaprawiać te dane. Nie będę tego robił bo więcej w tej pracy byłoby zabawy w rozwiązywanie łamigłówek niż nauki programowania. W sytuacji rzeczywistej zwróciłbym się z problemem do swojego klienta prosząc go o szczegółowe wyjaśnnienia dotyczące oznaczeń biletów.\n",
    "6. Dane o taryfie zawierają kilkanaście rekordów z ceną 0 oraz jeden rekord pusty. Nie będę ich uzupełniał tylko ominę w trakcie analizy.\n",
    "7. Dane o numerach kabin (podobnie jak numery biletów) wymagają zrozumienia i poprawki opartej o solidną wiedzę na temat rozlokowania kabin na statku, zasad ich przydziału, zasad podróżowania poza kabinami. Nie zrobię tego. Podobnie jak w przypadku numerów biletów, gdybym w trakcie realnej analizy napotkał na taki problem to wróciłbym znimm do klienta z prośbą o dokładne wyjaśnienia i instrukcjie odnośnie metod naprawy.\n",
    "8. Informacje o łodziach ratunkowych też są trudne do analizy, ale spróbuję je naprawić w prosty sposób. Przyjmę, że jeśli przy danej osobie zapisano jakąkolwiek informację o szalupie to znaczy, że ta osoba wsiadła do szalupy. Jeśli komórka jest pusta to znaczy, że nie wsiadła.\n",
    "9. Dane o celu podróży, jeśli będą potrzebne, można naprawić tylko połowicznie poprzez dodanie wpisu \"nieznany\". Zrobię to. Oprócz tego, w rekordach, które zostały wypełnione możnaby wyodrębnić skąd i dokąd ktoś podróżował, ale biorąc pod uwagę fakt, że mamy wypełnionych tylko jakieś 57% rekordów, nie będę tego robił.\n",
    "    \n",
    "Pozostałe dane nie wymagają korekt."
   ]
  },
  {
   "cell_type": "markdown",
   "metadata": {},
   "source": [
    "## Zmiana nazw kolumn"
   ]
  },
  {
   "cell_type": "code",
   "execution_count": 136,
   "metadata": {},
   "outputs": [
    {
     "data": {
      "text/html": [
       "<div>\n",
       "<style scoped>\n",
       "    .dataframe tbody tr th:only-of-type {\n",
       "        vertical-align: middle;\n",
       "    }\n",
       "\n",
       "    .dataframe tbody tr th {\n",
       "        vertical-align: top;\n",
       "    }\n",
       "\n",
       "    .dataframe thead th {\n",
       "        text-align: right;\n",
       "    }\n",
       "</style>\n",
       "<table border=\"1\" class=\"dataframe\">\n",
       "  <thead>\n",
       "    <tr style=\"text-align: right;\">\n",
       "      <th></th>\n",
       "      <th>Klasa</th>\n",
       "      <th>Uratowany</th>\n",
       "      <th>Tożsamość</th>\n",
       "      <th>Płeć</th>\n",
       "      <th>Wiek</th>\n",
       "      <th>Rodzeństwo</th>\n",
       "      <th>Rodzice/Dzieci</th>\n",
       "      <th>Numer biletu</th>\n",
       "      <th>Cena biletu</th>\n",
       "      <th>Numer kabiny</th>\n",
       "      <th>Port zaokrętowania</th>\n",
       "      <th>Numer szalupy</th>\n",
       "      <th>Numer ciała</th>\n",
       "      <th>Początek i cel</th>\n",
       "    </tr>\n",
       "  </thead>\n",
       "  <tbody>\n",
       "    <tr>\n",
       "      <th>444</th>\n",
       "      <td>2.0</td>\n",
       "      <td>0.0</td>\n",
       "      <td>Hickman, Mr. Stanley George</td>\n",
       "      <td>male</td>\n",
       "      <td>21.0</td>\n",
       "      <td>2.0</td>\n",
       "      <td>0.0</td>\n",
       "      <td>S.O.C. 14879</td>\n",
       "      <td>73.5</td>\n",
       "      <td>NaN</td>\n",
       "      <td>S</td>\n",
       "      <td>NaN</td>\n",
       "      <td>NaN</td>\n",
       "      <td>West Hampstead, London / Neepawa, MB</td>\n",
       "    </tr>\n",
       "  </tbody>\n",
       "</table>\n",
       "</div>"
      ],
      "text/plain": [
       "     Klasa  Uratowany                    Tożsamość  Płeć  Wiek  Rodzeństwo  \\\n",
       "444    2.0        0.0  Hickman, Mr. Stanley George  male  21.0         2.0   \n",
       "\n",
       "     Rodzice/Dzieci  Numer biletu  Cena biletu Numer kabiny  \\\n",
       "444             0.0  S.O.C. 14879         73.5          NaN   \n",
       "\n",
       "    Port zaokrętowania Numer szalupy  Numer ciała  \\\n",
       "444                  S           NaN          NaN   \n",
       "\n",
       "                           Początek i cel  \n",
       "444  West Hampstead, London / Neepawa, MB  "
      ]
     },
     "execution_count": 136,
     "metadata": {},
     "output_type": "execute_result"
    }
   ],
   "source": [
    "df = df.rename(columns={\n",
    "    \"pclass\": \"Klasa\",\n",
    "    \"survived\":\"Uratowany\",\n",
    "    \"name\":\"Tożsamość\",\n",
    "    \"sex\":\"Płeć\",\n",
    "    \"age\":\"Wiek\",\n",
    "    \"sibsp\":\"Rodzeństwo\",\n",
    "    \"parch\":\"Rodzice/Dzieci\",\n",
    "    \"ticket\":\"Numer biletu\",\n",
    "    \"fare\":\"Cena biletu\",\n",
    "    \"cabin\":\"Numer kabiny\",\n",
    "    \"embarked\":\"Port zaokrętowania\",\n",
    "    \"boat\":\"Numer szalupy\",\n",
    "    \"body\":\"Numer ciała\",\n",
    "    \"home.dest\":\"Początek i cel\"})\n",
    "df.sample()"
   ]
  },
  {
   "cell_type": "markdown",
   "metadata": {},
   "source": [
    "OK"
   ]
  },
  {
   "cell_type": "markdown",
   "metadata": {},
   "source": [
    "## Wydzielenie nazwisk, imion i tytułów"
   ]
  },
  {
   "cell_type": "code",
   "execution_count": 140,
   "metadata": {},
   "outputs": [
    {
     "data": {
      "text/html": [
       "<div>\n",
       "<style scoped>\n",
       "    .dataframe tbody tr th:only-of-type {\n",
       "        vertical-align: middle;\n",
       "    }\n",
       "\n",
       "    .dataframe tbody tr th {\n",
       "        vertical-align: top;\n",
       "    }\n",
       "\n",
       "    .dataframe thead th {\n",
       "        text-align: right;\n",
       "    }\n",
       "</style>\n",
       "<table border=\"1\" class=\"dataframe\">\n",
       "  <thead>\n",
       "    <tr style=\"text-align: right;\">\n",
       "      <th></th>\n",
       "      <th>Klasa</th>\n",
       "      <th>Uratowany</th>\n",
       "      <th>Tożsamość</th>\n",
       "      <th>Płeć</th>\n",
       "      <th>Wiek</th>\n",
       "      <th>Rodzeństwo</th>\n",
       "      <th>Rodzice/Dzieci</th>\n",
       "      <th>Numer biletu</th>\n",
       "      <th>Cena biletu</th>\n",
       "      <th>Numer kabiny</th>\n",
       "      <th>Port zaokrętowania</th>\n",
       "      <th>Numer szalupy</th>\n",
       "      <th>Numer ciała</th>\n",
       "      <th>Początek i cel</th>\n",
       "    </tr>\n",
       "  </thead>\n",
       "  <tbody>\n",
       "    <tr>\n",
       "      <th>473</th>\n",
       "      <td>2.0</td>\n",
       "      <td>0.0</td>\n",
       "      <td>Knight, Mr. Robert J</td>\n",
       "      <td>male</td>\n",
       "      <td>NaN</td>\n",
       "      <td>0.0</td>\n",
       "      <td>0.0</td>\n",
       "      <td>239855</td>\n",
       "      <td>0.0000</td>\n",
       "      <td>NaN</td>\n",
       "      <td>S</td>\n",
       "      <td>NaN</td>\n",
       "      <td>NaN</td>\n",
       "      <td>Belfast</td>\n",
       "    </tr>\n",
       "    <tr>\n",
       "      <th>288</th>\n",
       "      <td>1.0</td>\n",
       "      <td>1.0</td>\n",
       "      <td>Swift, Mrs. Frederick Joel (Margaret Welles Ba...</td>\n",
       "      <td>female</td>\n",
       "      <td>48.0</td>\n",
       "      <td>0.0</td>\n",
       "      <td>0.0</td>\n",
       "      <td>17466</td>\n",
       "      <td>25.9292</td>\n",
       "      <td>D17</td>\n",
       "      <td>S</td>\n",
       "      <td>8</td>\n",
       "      <td>NaN</td>\n",
       "      <td>Brooklyn, NY</td>\n",
       "    </tr>\n",
       "    <tr>\n",
       "      <th>498</th>\n",
       "      <td>2.0</td>\n",
       "      <td>0.0</td>\n",
       "      <td>McCrae, Mr. Arthur Gordon</td>\n",
       "      <td>male</td>\n",
       "      <td>32.0</td>\n",
       "      <td>0.0</td>\n",
       "      <td>0.0</td>\n",
       "      <td>237216</td>\n",
       "      <td>13.5000</td>\n",
       "      <td>NaN</td>\n",
       "      <td>S</td>\n",
       "      <td>NaN</td>\n",
       "      <td>209.0</td>\n",
       "      <td>Sydney, Australia</td>\n",
       "    </tr>\n",
       "    <tr>\n",
       "      <th>1092</th>\n",
       "      <td>3.0</td>\n",
       "      <td>0.0</td>\n",
       "      <td>Oreskovic, Mr. Luka</td>\n",
       "      <td>male</td>\n",
       "      <td>20.0</td>\n",
       "      <td>0.0</td>\n",
       "      <td>0.0</td>\n",
       "      <td>315094</td>\n",
       "      <td>8.6625</td>\n",
       "      <td>NaN</td>\n",
       "      <td>S</td>\n",
       "      <td>NaN</td>\n",
       "      <td>NaN</td>\n",
       "      <td>NaN</td>\n",
       "    </tr>\n",
       "    <tr>\n",
       "      <th>163</th>\n",
       "      <td>1.0</td>\n",
       "      <td>1.0</td>\n",
       "      <td>Holverson, Mrs. Alexander Oskar (Mary Aline To...</td>\n",
       "      <td>female</td>\n",
       "      <td>35.0</td>\n",
       "      <td>1.0</td>\n",
       "      <td>0.0</td>\n",
       "      <td>113789</td>\n",
       "      <td>52.0000</td>\n",
       "      <td>NaN</td>\n",
       "      <td>S</td>\n",
       "      <td>8</td>\n",
       "      <td>NaN</td>\n",
       "      <td>New York, NY</td>\n",
       "    </tr>\n",
       "    <tr>\n",
       "      <th>37</th>\n",
       "      <td>1.0</td>\n",
       "      <td>1.0</td>\n",
       "      <td>Bradley, Mr. George (\"George Arthur Brayton\")</td>\n",
       "      <td>male</td>\n",
       "      <td>NaN</td>\n",
       "      <td>0.0</td>\n",
       "      <td>0.0</td>\n",
       "      <td>111427</td>\n",
       "      <td>26.5500</td>\n",
       "      <td>NaN</td>\n",
       "      <td>S</td>\n",
       "      <td>9</td>\n",
       "      <td>NaN</td>\n",
       "      <td>Los Angeles, CA</td>\n",
       "    </tr>\n",
       "    <tr>\n",
       "      <th>910</th>\n",
       "      <td>3.0</td>\n",
       "      <td>0.0</td>\n",
       "      <td>Kallio, Mr. Nikolai Erland</td>\n",
       "      <td>male</td>\n",
       "      <td>17.0</td>\n",
       "      <td>0.0</td>\n",
       "      <td>0.0</td>\n",
       "      <td>STON/O 2. 3101274</td>\n",
       "      <td>7.1250</td>\n",
       "      <td>NaN</td>\n",
       "      <td>S</td>\n",
       "      <td>NaN</td>\n",
       "      <td>NaN</td>\n",
       "      <td>NaN</td>\n",
       "    </tr>\n",
       "    <tr>\n",
       "      <th>210</th>\n",
       "      <td>1.0</td>\n",
       "      <td>0.0</td>\n",
       "      <td>Molson, Mr. Harry Markland</td>\n",
       "      <td>male</td>\n",
       "      <td>55.0</td>\n",
       "      <td>0.0</td>\n",
       "      <td>0.0</td>\n",
       "      <td>113787</td>\n",
       "      <td>30.5000</td>\n",
       "      <td>C30</td>\n",
       "      <td>S</td>\n",
       "      <td>NaN</td>\n",
       "      <td>NaN</td>\n",
       "      <td>Montreal, PQ</td>\n",
       "    </tr>\n",
       "    <tr>\n",
       "      <th>904</th>\n",
       "      <td>3.0</td>\n",
       "      <td>0.0</td>\n",
       "      <td>Jonkoff, Mr. Lalio</td>\n",
       "      <td>male</td>\n",
       "      <td>23.0</td>\n",
       "      <td>0.0</td>\n",
       "      <td>0.0</td>\n",
       "      <td>349204</td>\n",
       "      <td>7.8958</td>\n",
       "      <td>NaN</td>\n",
       "      <td>S</td>\n",
       "      <td>NaN</td>\n",
       "      <td>NaN</td>\n",
       "      <td>NaN</td>\n",
       "    </tr>\n",
       "    <tr>\n",
       "      <th>1088</th>\n",
       "      <td>3.0</td>\n",
       "      <td>1.0</td>\n",
       "      <td>Olsson, Mr. Oscar Wilhelm</td>\n",
       "      <td>male</td>\n",
       "      <td>32.0</td>\n",
       "      <td>0.0</td>\n",
       "      <td>0.0</td>\n",
       "      <td>347079</td>\n",
       "      <td>7.7750</td>\n",
       "      <td>NaN</td>\n",
       "      <td>S</td>\n",
       "      <td>A</td>\n",
       "      <td>NaN</td>\n",
       "      <td>NaN</td>\n",
       "    </tr>\n",
       "    <tr>\n",
       "      <th>243</th>\n",
       "      <td>1.0</td>\n",
       "      <td>0.0</td>\n",
       "      <td>Rosenshine, Mr. George (\"Mr George Thorne\")</td>\n",
       "      <td>male</td>\n",
       "      <td>46.0</td>\n",
       "      <td>0.0</td>\n",
       "      <td>0.0</td>\n",
       "      <td>PC 17585</td>\n",
       "      <td>79.2000</td>\n",
       "      <td>NaN</td>\n",
       "      <td>C</td>\n",
       "      <td>NaN</td>\n",
       "      <td>16.0</td>\n",
       "      <td>New York, NY</td>\n",
       "    </tr>\n",
       "    <tr>\n",
       "      <th>623</th>\n",
       "      <td>3.0</td>\n",
       "      <td>0.0</td>\n",
       "      <td>Andersson, Miss. Ebba Iris Alfrida</td>\n",
       "      <td>female</td>\n",
       "      <td>6.0</td>\n",
       "      <td>4.0</td>\n",
       "      <td>2.0</td>\n",
       "      <td>347082</td>\n",
       "      <td>31.2750</td>\n",
       "      <td>NaN</td>\n",
       "      <td>S</td>\n",
       "      <td>NaN</td>\n",
       "      <td>NaN</td>\n",
       "      <td>Sweden Winnipeg, MN</td>\n",
       "    </tr>\n",
       "    <tr>\n",
       "      <th>1304</th>\n",
       "      <td>3.0</td>\n",
       "      <td>0.0</td>\n",
       "      <td>Zabour, Miss. Hileni</td>\n",
       "      <td>female</td>\n",
       "      <td>14.5</td>\n",
       "      <td>1.0</td>\n",
       "      <td>0.0</td>\n",
       "      <td>2665</td>\n",
       "      <td>14.4542</td>\n",
       "      <td>NaN</td>\n",
       "      <td>C</td>\n",
       "      <td>NaN</td>\n",
       "      <td>328.0</td>\n",
       "      <td>NaN</td>\n",
       "    </tr>\n",
       "    <tr>\n",
       "      <th>975</th>\n",
       "      <td>3.0</td>\n",
       "      <td>0.0</td>\n",
       "      <td>Lobb, Mrs. William Arthur (Cordelia K Stanlick)</td>\n",
       "      <td>female</td>\n",
       "      <td>26.0</td>\n",
       "      <td>1.0</td>\n",
       "      <td>0.0</td>\n",
       "      <td>A/5. 3336</td>\n",
       "      <td>16.1000</td>\n",
       "      <td>NaN</td>\n",
       "      <td>S</td>\n",
       "      <td>NaN</td>\n",
       "      <td>NaN</td>\n",
       "      <td>NaN</td>\n",
       "    </tr>\n",
       "    <tr>\n",
       "      <th>591</th>\n",
       "      <td>2.0</td>\n",
       "      <td>1.0</td>\n",
       "      <td>West, Miss. Constance Mirium</td>\n",
       "      <td>female</td>\n",
       "      <td>5.0</td>\n",
       "      <td>1.0</td>\n",
       "      <td>2.0</td>\n",
       "      <td>C.A. 34651</td>\n",
       "      <td>27.7500</td>\n",
       "      <td>NaN</td>\n",
       "      <td>S</td>\n",
       "      <td>10</td>\n",
       "      <td>NaN</td>\n",
       "      <td>Bournmouth, England</td>\n",
       "    </tr>\n",
       "    <tr>\n",
       "      <th>177</th>\n",
       "      <td>1.0</td>\n",
       "      <td>1.0</td>\n",
       "      <td>Kimball, Mr. Edwin Nelson Jr</td>\n",
       "      <td>male</td>\n",
       "      <td>42.0</td>\n",
       "      <td>1.0</td>\n",
       "      <td>0.0</td>\n",
       "      <td>11753</td>\n",
       "      <td>52.5542</td>\n",
       "      <td>D19</td>\n",
       "      <td>S</td>\n",
       "      <td>5</td>\n",
       "      <td>NaN</td>\n",
       "      <td>Boston, MA</td>\n",
       "    </tr>\n",
       "    <tr>\n",
       "      <th>1236</th>\n",
       "      <td>3.0</td>\n",
       "      <td>1.0</td>\n",
       "      <td>Svensson, Mr. Johan Cervin</td>\n",
       "      <td>male</td>\n",
       "      <td>14.0</td>\n",
       "      <td>0.0</td>\n",
       "      <td>0.0</td>\n",
       "      <td>7538</td>\n",
       "      <td>9.2250</td>\n",
       "      <td>NaN</td>\n",
       "      <td>S</td>\n",
       "      <td>13</td>\n",
       "      <td>NaN</td>\n",
       "      <td>NaN</td>\n",
       "    </tr>\n",
       "    <tr>\n",
       "      <th>1165</th>\n",
       "      <td>3.0</td>\n",
       "      <td>0.0</td>\n",
       "      <td>Saad, Mr. Khalil</td>\n",
       "      <td>male</td>\n",
       "      <td>25.0</td>\n",
       "      <td>0.0</td>\n",
       "      <td>0.0</td>\n",
       "      <td>2672</td>\n",
       "      <td>7.2250</td>\n",
       "      <td>NaN</td>\n",
       "      <td>C</td>\n",
       "      <td>NaN</td>\n",
       "      <td>NaN</td>\n",
       "      <td>NaN</td>\n",
       "    </tr>\n",
       "    <tr>\n",
       "      <th>96</th>\n",
       "      <td>1.0</td>\n",
       "      <td>0.0</td>\n",
       "      <td>Douglas, Mr. Walter Donald</td>\n",
       "      <td>male</td>\n",
       "      <td>50.0</td>\n",
       "      <td>1.0</td>\n",
       "      <td>0.0</td>\n",
       "      <td>PC 17761</td>\n",
       "      <td>106.4250</td>\n",
       "      <td>C86</td>\n",
       "      <td>C</td>\n",
       "      <td>NaN</td>\n",
       "      <td>62.0</td>\n",
       "      <td>Deephaven, MN / Cedar Rapids, IA</td>\n",
       "    </tr>\n",
       "    <tr>\n",
       "      <th>1163</th>\n",
       "      <td>3.0</td>\n",
       "      <td>0.0</td>\n",
       "      <td>Ryan, Mr. Patrick</td>\n",
       "      <td>male</td>\n",
       "      <td>NaN</td>\n",
       "      <td>0.0</td>\n",
       "      <td>0.0</td>\n",
       "      <td>371110</td>\n",
       "      <td>24.1500</td>\n",
       "      <td>NaN</td>\n",
       "      <td>Q</td>\n",
       "      <td>NaN</td>\n",
       "      <td>NaN</td>\n",
       "      <td>NaN</td>\n",
       "    </tr>\n",
       "  </tbody>\n",
       "</table>\n",
       "</div>"
      ],
      "text/plain": [
       "      Klasa  Uratowany                                          Tożsamość  \\\n",
       "473     2.0        0.0                               Knight, Mr. Robert J   \n",
       "288     1.0        1.0  Swift, Mrs. Frederick Joel (Margaret Welles Ba...   \n",
       "498     2.0        0.0                          McCrae, Mr. Arthur Gordon   \n",
       "1092    3.0        0.0                                Oreskovic, Mr. Luka   \n",
       "163     1.0        1.0  Holverson, Mrs. Alexander Oskar (Mary Aline To...   \n",
       "37      1.0        1.0      Bradley, Mr. George (\"George Arthur Brayton\")   \n",
       "910     3.0        0.0                         Kallio, Mr. Nikolai Erland   \n",
       "210     1.0        0.0                         Molson, Mr. Harry Markland   \n",
       "904     3.0        0.0                                 Jonkoff, Mr. Lalio   \n",
       "1088    3.0        1.0                          Olsson, Mr. Oscar Wilhelm   \n",
       "243     1.0        0.0        Rosenshine, Mr. George (\"Mr George Thorne\")   \n",
       "623     3.0        0.0                 Andersson, Miss. Ebba Iris Alfrida   \n",
       "1304    3.0        0.0                               Zabour, Miss. Hileni   \n",
       "975     3.0        0.0    Lobb, Mrs. William Arthur (Cordelia K Stanlick)   \n",
       "591     2.0        1.0                       West, Miss. Constance Mirium   \n",
       "177     1.0        1.0                       Kimball, Mr. Edwin Nelson Jr   \n",
       "1236    3.0        1.0                         Svensson, Mr. Johan Cervin   \n",
       "1165    3.0        0.0                                   Saad, Mr. Khalil   \n",
       "96      1.0        0.0                         Douglas, Mr. Walter Donald   \n",
       "1163    3.0        0.0                                  Ryan, Mr. Patrick   \n",
       "\n",
       "        Płeć  Wiek  Rodzeństwo  Rodzice/Dzieci       Numer biletu  \\\n",
       "473     male   NaN         0.0             0.0             239855   \n",
       "288   female  48.0         0.0             0.0              17466   \n",
       "498     male  32.0         0.0             0.0             237216   \n",
       "1092    male  20.0         0.0             0.0             315094   \n",
       "163   female  35.0         1.0             0.0             113789   \n",
       "37      male   NaN         0.0             0.0             111427   \n",
       "910     male  17.0         0.0             0.0  STON/O 2. 3101274   \n",
       "210     male  55.0         0.0             0.0             113787   \n",
       "904     male  23.0         0.0             0.0             349204   \n",
       "1088    male  32.0         0.0             0.0             347079   \n",
       "243     male  46.0         0.0             0.0           PC 17585   \n",
       "623   female   6.0         4.0             2.0             347082   \n",
       "1304  female  14.5         1.0             0.0               2665   \n",
       "975   female  26.0         1.0             0.0          A/5. 3336   \n",
       "591   female   5.0         1.0             2.0         C.A. 34651   \n",
       "177     male  42.0         1.0             0.0              11753   \n",
       "1236    male  14.0         0.0             0.0               7538   \n",
       "1165    male  25.0         0.0             0.0               2672   \n",
       "96      male  50.0         1.0             0.0           PC 17761   \n",
       "1163    male   NaN         0.0             0.0             371110   \n",
       "\n",
       "      Cena biletu Numer kabiny Port zaokrętowania Numer szalupy  Numer ciała  \\\n",
       "473        0.0000          NaN                  S           NaN          NaN   \n",
       "288       25.9292          D17                  S             8          NaN   \n",
       "498       13.5000          NaN                  S           NaN        209.0   \n",
       "1092       8.6625          NaN                  S           NaN          NaN   \n",
       "163       52.0000          NaN                  S             8          NaN   \n",
       "37        26.5500          NaN                  S             9          NaN   \n",
       "910        7.1250          NaN                  S           NaN          NaN   \n",
       "210       30.5000          C30                  S           NaN          NaN   \n",
       "904        7.8958          NaN                  S           NaN          NaN   \n",
       "1088       7.7750          NaN                  S             A          NaN   \n",
       "243       79.2000          NaN                  C           NaN         16.0   \n",
       "623       31.2750          NaN                  S           NaN          NaN   \n",
       "1304      14.4542          NaN                  C           NaN        328.0   \n",
       "975       16.1000          NaN                  S           NaN          NaN   \n",
       "591       27.7500          NaN                  S            10          NaN   \n",
       "177       52.5542          D19                  S             5          NaN   \n",
       "1236       9.2250          NaN                  S            13          NaN   \n",
       "1165       7.2250          NaN                  C           NaN          NaN   \n",
       "96       106.4250          C86                  C           NaN         62.0   \n",
       "1163      24.1500          NaN                  Q           NaN          NaN   \n",
       "\n",
       "                        Początek i cel  \n",
       "473                            Belfast  \n",
       "288                       Brooklyn, NY  \n",
       "498                  Sydney, Australia  \n",
       "1092                               NaN  \n",
       "163                       New York, NY  \n",
       "37                     Los Angeles, CA  \n",
       "910                                NaN  \n",
       "210                       Montreal, PQ  \n",
       "904                                NaN  \n",
       "1088                               NaN  \n",
       "243                       New York, NY  \n",
       "623                Sweden Winnipeg, MN  \n",
       "1304                               NaN  \n",
       "975                                NaN  \n",
       "591                Bournmouth, England  \n",
       "177                         Boston, MA  \n",
       "1236                               NaN  \n",
       "1165                               NaN  \n",
       "96    Deephaven, MN / Cedar Rapids, IA  \n",
       "1163                               NaN  "
      ]
     },
     "execution_count": 140,
     "metadata": {},
     "output_type": "execute_result"
    }
   ],
   "source": [
    "df.sample(20)"
   ]
  },
  {
   "cell_type": "markdown",
   "metadata": {},
   "source": [
    "Logika wpisów tożsamości, którą dostrzegam:\n",
    "1. Nazwisko\n",
    "2. Przecinek i spacja\n",
    "3. Tytuł\n",
    "4. Kropka i spacja\n",
    "5. Pierwsze imię dla mężczyzn i kobiet niezamężnych. Pierwsze imię męża dla kobiet zamężnych (pamietam z początków nauki Angielskiego, że Brytyjczycy tak zapisywali :-))\n",
    "6. Spacja\n",
    "7. Drugie imię\n",
    "8. Spacja\n",
    "9. Dalej opcjonalnie\n",
    "10. dla kobiet zamężnych\n",
    "    - Otworzyć nawias\n",
    "    - Imię\n",
    "    - Spacja (może nie wystąpić)\n",
    "    - Nazwisko panieńskie (może nie wystąpić)\n",
    "    - Zamknąć nawias\n",
    "11. dla innych osób\n",
    "    - otworzyć cudzysłów\n",
    "    - pseudonim\n",
    "    - zamknąć cudzysłów\n",
    "   \n",
    "Wszystkich danych nie potrzebuję. Wyodrębnię: tytuł, imię i nazwisko."
   ]
  },
  {
   "cell_type": "markdown",
   "metadata": {},
   "source": [
    "Najpierw dodam kolumny wypełniając je wstępnie danymi nieznanymi."
   ]
  },
  {
   "cell_type": "code",
   "execution_count": 144,
   "metadata": {},
   "outputs": [],
   "source": [
    "df['Tytuł'] = 'Mr.'\n",
    "df['Imię'] = 'Tożsamość'\n",
    "df['Nazwisko'] = 'Nieznana'"
   ]
  },
  {
   "cell_type": "markdown",
   "metadata": {},
   "source": [
    "Pomogę sobie Data Chatterem"
   ]
  },
  {
   "cell_type": "code",
   "execution_count": 147,
   "metadata": {},
   "outputs": [],
   "source": [
    "# Extract titles from the 'Tożsamość' column without using the re module\n",
    "def extract_title(Tożsamość):\n",
    "    if pd.isnull(Tożsamość):\n",
    "        return None\n",
    "     \n",
    "    for title in ['Mr.', 'Mrs.', 'Miss.','Master.']:\n",
    "        if title in Tożsamość:\n",
    "            return title\n",
    "    return None\n",
    "\n",
    "# Apply the function to the 'Tożsamość' column\n",
    "df['Tytuł'] = df['Tożsamość'].apply(extract_title)"
   ]
  },
  {
   "cell_type": "code",
   "execution_count": 149,
   "metadata": {},
   "outputs": [],
   "source": [
    "df['Nazwisko'] = df['Tożsamość'].apply(lambda x: x.split(',')[0] if pd.notnull(x) \n",
    "    else None)\n"
   ]
  },
  {
   "cell_type": "code",
   "execution_count": 151,
   "metadata": {},
   "outputs": [],
   "source": [
    "def extract_first_name(Tożsamość, Tytuł):\n",
    "    if pd.isna(Tożsamość) or pd.isna(Tytuł):\n",
    "        return None\n",
    "    \n",
    "    # Check if the person is a married woman\n",
    "    if \"Mrs.\" in Tytuł:\n",
    "        # Extract the first name from within parentheses\n",
    "        start = Tożsamość.find(\"(\")\n",
    "        end = Tożsamość.find(\")\")\n",
    "        if start != -1 and end != -1:\n",
    "            return Tożsamość[start+1:end].split()[0]\n",
    "    else:\n",
    "        # Extract the first name after the title\n",
    "        parts = Tożsamość.split(\", \")\n",
    "        if len(parts) > 1:\n",
    "            name_part = parts[1]\n",
    "            name_parts = name_part.split()\n",
    "            if len(name_parts) > 1:\n",
    "                return name_parts[1]\n",
    "    \n",
    "    return None\n",
    "\n",
    "# Apply the function to the DataFrame\n",
    "df['Imię'] = df.apply(lambda row: extract_first_name(row['Tożsamość'], row['Tytuł']), axis=1)"
   ]
  },
  {
   "cell_type": "markdown",
   "metadata": {},
   "source": [
    "## Informacja czy wsiadł do szalupy"
   ]
  },
  {
   "cell_type": "markdown",
   "metadata": {},
   "source": [
    "Dodam kolumnę wskazującą na to czy przy danym nazwisku pojawił się jakikolwiek numer szalupy. Jeśli tak, to zakładam że ta osoba wsiadła do szalupy. Jeśli nie - to nie."
   ]
  },
  {
   "cell_type": "code",
   "execution_count": 155,
   "metadata": {},
   "outputs": [],
   "source": [
    "df['W szalupie'] = df['Numer szalupy'].notna()"
   ]
  },
  {
   "cell_type": "markdown",
   "metadata": {},
   "source": [
    "## Początek i cel podróży"
   ]
  },
  {
   "cell_type": "markdown",
   "metadata": {},
   "source": [
    "Na koniec korekt uzupełnię wpisy w kolumnie z celem podróży."
   ]
  },
  {
   "cell_type": "code",
   "execution_count": 159,
   "metadata": {},
   "outputs": [],
   "source": [
    "df['Początek i cel'] = df['Początek i cel'].fillna('Nieznany')"
   ]
  },
  {
   "cell_type": "code",
   "execution_count": 161,
   "metadata": {},
   "outputs": [
    {
     "data": {
      "text/html": [
       "<div>\n",
       "<style scoped>\n",
       "    .dataframe tbody tr th:only-of-type {\n",
       "        vertical-align: middle;\n",
       "    }\n",
       "\n",
       "    .dataframe tbody tr th {\n",
       "        vertical-align: top;\n",
       "    }\n",
       "\n",
       "    .dataframe thead th {\n",
       "        text-align: right;\n",
       "    }\n",
       "</style>\n",
       "<table border=\"1\" class=\"dataframe\">\n",
       "  <thead>\n",
       "    <tr style=\"text-align: right;\">\n",
       "      <th></th>\n",
       "      <th>Klasa</th>\n",
       "      <th>Uratowany</th>\n",
       "      <th>Tożsamość</th>\n",
       "      <th>Płeć</th>\n",
       "      <th>Wiek</th>\n",
       "      <th>Rodzeństwo</th>\n",
       "      <th>Rodzice/Dzieci</th>\n",
       "      <th>Numer biletu</th>\n",
       "      <th>Cena biletu</th>\n",
       "      <th>Numer kabiny</th>\n",
       "      <th>Port zaokrętowania</th>\n",
       "      <th>Numer szalupy</th>\n",
       "      <th>Numer ciała</th>\n",
       "      <th>Początek i cel</th>\n",
       "      <th>Tytuł</th>\n",
       "      <th>Imię</th>\n",
       "      <th>Nazwisko</th>\n",
       "      <th>W szalupie</th>\n",
       "    </tr>\n",
       "  </thead>\n",
       "  <tbody>\n",
       "    <tr>\n",
       "      <th>648</th>\n",
       "      <td>3.0</td>\n",
       "      <td>0.0</td>\n",
       "      <td>Assaf, Mr. Gerios</td>\n",
       "      <td>male</td>\n",
       "      <td>21.0</td>\n",
       "      <td>0.0</td>\n",
       "      <td>0.0</td>\n",
       "      <td>2692</td>\n",
       "      <td>7.2250</td>\n",
       "      <td>NaN</td>\n",
       "      <td>C</td>\n",
       "      <td>NaN</td>\n",
       "      <td>NaN</td>\n",
       "      <td>Ottawa, ON</td>\n",
       "      <td>Mr.</td>\n",
       "      <td>Gerios</td>\n",
       "      <td>Assaf</td>\n",
       "      <td>False</td>\n",
       "    </tr>\n",
       "    <tr>\n",
       "      <th>997</th>\n",
       "      <td>3.0</td>\n",
       "      <td>1.0</td>\n",
       "      <td>Masselmani, Mrs. Fatima</td>\n",
       "      <td>female</td>\n",
       "      <td>NaN</td>\n",
       "      <td>0.0</td>\n",
       "      <td>0.0</td>\n",
       "      <td>2649</td>\n",
       "      <td>7.2250</td>\n",
       "      <td>NaN</td>\n",
       "      <td>C</td>\n",
       "      <td>C</td>\n",
       "      <td>NaN</td>\n",
       "      <td>Nieznany</td>\n",
       "      <td>Mrs.</td>\n",
       "      <td>None</td>\n",
       "      <td>Masselmani</td>\n",
       "      <td>True</td>\n",
       "    </tr>\n",
       "    <tr>\n",
       "      <th>690</th>\n",
       "      <td>3.0</td>\n",
       "      <td>0.0</td>\n",
       "      <td>Brobeck, Mr. Karl Rudolf</td>\n",
       "      <td>male</td>\n",
       "      <td>22.0</td>\n",
       "      <td>0.0</td>\n",
       "      <td>0.0</td>\n",
       "      <td>350045</td>\n",
       "      <td>7.7958</td>\n",
       "      <td>NaN</td>\n",
       "      <td>S</td>\n",
       "      <td>NaN</td>\n",
       "      <td>NaN</td>\n",
       "      <td>Sweden Worcester, MA</td>\n",
       "      <td>Mr.</td>\n",
       "      <td>Karl</td>\n",
       "      <td>Brobeck</td>\n",
       "      <td>False</td>\n",
       "    </tr>\n",
       "    <tr>\n",
       "      <th>534</th>\n",
       "      <td>2.0</td>\n",
       "      <td>1.0</td>\n",
       "      <td>Phillips, Miss. Kate Florence (\"Mrs Kate Louis...</td>\n",
       "      <td>female</td>\n",
       "      <td>19.0</td>\n",
       "      <td>0.0</td>\n",
       "      <td>0.0</td>\n",
       "      <td>250655</td>\n",
       "      <td>26.0000</td>\n",
       "      <td>NaN</td>\n",
       "      <td>S</td>\n",
       "      <td>11</td>\n",
       "      <td>NaN</td>\n",
       "      <td>Worcester, England</td>\n",
       "      <td>Miss.</td>\n",
       "      <td>Kate</td>\n",
       "      <td>Phillips</td>\n",
       "      <td>True</td>\n",
       "    </tr>\n",
       "    <tr>\n",
       "      <th>1225</th>\n",
       "      <td>3.0</td>\n",
       "      <td>0.0</td>\n",
       "      <td>Storey, Mr. Thomas</td>\n",
       "      <td>male</td>\n",
       "      <td>60.5</td>\n",
       "      <td>0.0</td>\n",
       "      <td>0.0</td>\n",
       "      <td>3701</td>\n",
       "      <td>NaN</td>\n",
       "      <td>NaN</td>\n",
       "      <td>S</td>\n",
       "      <td>NaN</td>\n",
       "      <td>261.0</td>\n",
       "      <td>Nieznany</td>\n",
       "      <td>Mr.</td>\n",
       "      <td>Thomas</td>\n",
       "      <td>Storey</td>\n",
       "      <td>False</td>\n",
       "    </tr>\n",
       "    <tr>\n",
       "      <th>933</th>\n",
       "      <td>3.0</td>\n",
       "      <td>0.0</td>\n",
       "      <td>Kink, Mr. Vincenz</td>\n",
       "      <td>male</td>\n",
       "      <td>26.0</td>\n",
       "      <td>2.0</td>\n",
       "      <td>0.0</td>\n",
       "      <td>315151</td>\n",
       "      <td>8.6625</td>\n",
       "      <td>NaN</td>\n",
       "      <td>S</td>\n",
       "      <td>NaN</td>\n",
       "      <td>NaN</td>\n",
       "      <td>Nieznany</td>\n",
       "      <td>Mr.</td>\n",
       "      <td>Vincenz</td>\n",
       "      <td>Kink</td>\n",
       "      <td>False</td>\n",
       "    </tr>\n",
       "    <tr>\n",
       "      <th>113</th>\n",
       "      <td>1.0</td>\n",
       "      <td>1.0</td>\n",
       "      <td>Fortune, Miss. Mabel Helen</td>\n",
       "      <td>female</td>\n",
       "      <td>23.0</td>\n",
       "      <td>3.0</td>\n",
       "      <td>2.0</td>\n",
       "      <td>19950</td>\n",
       "      <td>263.0000</td>\n",
       "      <td>C23 C25 C27</td>\n",
       "      <td>S</td>\n",
       "      <td>10</td>\n",
       "      <td>NaN</td>\n",
       "      <td>Winnipeg, MB</td>\n",
       "      <td>Miss.</td>\n",
       "      <td>Mabel</td>\n",
       "      <td>Fortune</td>\n",
       "      <td>True</td>\n",
       "    </tr>\n",
       "    <tr>\n",
       "      <th>510</th>\n",
       "      <td>2.0</td>\n",
       "      <td>0.0</td>\n",
       "      <td>Mudd, Mr. Thomas Charles</td>\n",
       "      <td>male</td>\n",
       "      <td>16.0</td>\n",
       "      <td>0.0</td>\n",
       "      <td>0.0</td>\n",
       "      <td>S.O./P.P. 3</td>\n",
       "      <td>10.5000</td>\n",
       "      <td>NaN</td>\n",
       "      <td>S</td>\n",
       "      <td>NaN</td>\n",
       "      <td>NaN</td>\n",
       "      <td>Halesworth, England</td>\n",
       "      <td>Mr.</td>\n",
       "      <td>Thomas</td>\n",
       "      <td>Mudd</td>\n",
       "      <td>False</td>\n",
       "    </tr>\n",
       "    <tr>\n",
       "      <th>497</th>\n",
       "      <td>2.0</td>\n",
       "      <td>0.0</td>\n",
       "      <td>Maybery, Mr. Frank Hubert</td>\n",
       "      <td>male</td>\n",
       "      <td>40.0</td>\n",
       "      <td>0.0</td>\n",
       "      <td>0.0</td>\n",
       "      <td>239059</td>\n",
       "      <td>16.0000</td>\n",
       "      <td>NaN</td>\n",
       "      <td>S</td>\n",
       "      <td>NaN</td>\n",
       "      <td>NaN</td>\n",
       "      <td>Weston-Super-Mare / Moose Jaw, SK</td>\n",
       "      <td>Mr.</td>\n",
       "      <td>Frank</td>\n",
       "      <td>Maybery</td>\n",
       "      <td>False</td>\n",
       "    </tr>\n",
       "    <tr>\n",
       "      <th>1112</th>\n",
       "      <td>3.0</td>\n",
       "      <td>0.0</td>\n",
       "      <td>Peacock, Miss. Treasteall</td>\n",
       "      <td>female</td>\n",
       "      <td>3.0</td>\n",
       "      <td>1.0</td>\n",
       "      <td>1.0</td>\n",
       "      <td>SOTON/O.Q. 3101315</td>\n",
       "      <td>13.7750</td>\n",
       "      <td>NaN</td>\n",
       "      <td>S</td>\n",
       "      <td>NaN</td>\n",
       "      <td>NaN</td>\n",
       "      <td>Nieznany</td>\n",
       "      <td>Miss.</td>\n",
       "      <td>Treasteall</td>\n",
       "      <td>Peacock</td>\n",
       "      <td>False</td>\n",
       "    </tr>\n",
       "  </tbody>\n",
       "</table>\n",
       "</div>"
      ],
      "text/plain": [
       "      Klasa  Uratowany                                          Tożsamość  \\\n",
       "648     3.0        0.0                                  Assaf, Mr. Gerios   \n",
       "997     3.0        1.0                            Masselmani, Mrs. Fatima   \n",
       "690     3.0        0.0                           Brobeck, Mr. Karl Rudolf   \n",
       "534     2.0        1.0  Phillips, Miss. Kate Florence (\"Mrs Kate Louis...   \n",
       "1225    3.0        0.0                                 Storey, Mr. Thomas   \n",
       "933     3.0        0.0                                  Kink, Mr. Vincenz   \n",
       "113     1.0        1.0                         Fortune, Miss. Mabel Helen   \n",
       "510     2.0        0.0                           Mudd, Mr. Thomas Charles   \n",
       "497     2.0        0.0                          Maybery, Mr. Frank Hubert   \n",
       "1112    3.0        0.0                          Peacock, Miss. Treasteall   \n",
       "\n",
       "        Płeć  Wiek  Rodzeństwo  Rodzice/Dzieci        Numer biletu  \\\n",
       "648     male  21.0         0.0             0.0                2692   \n",
       "997   female   NaN         0.0             0.0                2649   \n",
       "690     male  22.0         0.0             0.0              350045   \n",
       "534   female  19.0         0.0             0.0              250655   \n",
       "1225    male  60.5         0.0             0.0                3701   \n",
       "933     male  26.0         2.0             0.0              315151   \n",
       "113   female  23.0         3.0             2.0               19950   \n",
       "510     male  16.0         0.0             0.0         S.O./P.P. 3   \n",
       "497     male  40.0         0.0             0.0              239059   \n",
       "1112  female   3.0         1.0             1.0  SOTON/O.Q. 3101315   \n",
       "\n",
       "      Cena biletu Numer kabiny Port zaokrętowania Numer szalupy  Numer ciała  \\\n",
       "648        7.2250          NaN                  C           NaN          NaN   \n",
       "997        7.2250          NaN                  C             C          NaN   \n",
       "690        7.7958          NaN                  S           NaN          NaN   \n",
       "534       26.0000          NaN                  S            11          NaN   \n",
       "1225          NaN          NaN                  S           NaN        261.0   \n",
       "933        8.6625          NaN                  S           NaN          NaN   \n",
       "113      263.0000  C23 C25 C27                  S            10          NaN   \n",
       "510       10.5000          NaN                  S           NaN          NaN   \n",
       "497       16.0000          NaN                  S           NaN          NaN   \n",
       "1112      13.7750          NaN                  S           NaN          NaN   \n",
       "\n",
       "                         Początek i cel  Tytuł        Imię    Nazwisko  \\\n",
       "648                          Ottawa, ON    Mr.      Gerios       Assaf   \n",
       "997                            Nieznany   Mrs.        None  Masselmani   \n",
       "690                Sweden Worcester, MA    Mr.        Karl     Brobeck   \n",
       "534                  Worcester, England  Miss.        Kate    Phillips   \n",
       "1225                           Nieznany    Mr.      Thomas      Storey   \n",
       "933                            Nieznany    Mr.     Vincenz        Kink   \n",
       "113                        Winnipeg, MB  Miss.       Mabel     Fortune   \n",
       "510                 Halesworth, England    Mr.      Thomas        Mudd   \n",
       "497   Weston-Super-Mare / Moose Jaw, SK    Mr.       Frank     Maybery   \n",
       "1112                           Nieznany  Miss.  Treasteall     Peacock   \n",
       "\n",
       "      W szalupie  \n",
       "648        False  \n",
       "997         True  \n",
       "690        False  \n",
       "534         True  \n",
       "1225       False  \n",
       "933        False  \n",
       "113         True  \n",
       "510        False  \n",
       "497        False  \n",
       "1112       False  "
      ]
     },
     "execution_count": 161,
     "metadata": {},
     "output_type": "execute_result"
    }
   ],
   "source": [
    "df.sample(10)"
   ]
  },
  {
   "cell_type": "markdown",
   "metadata": {},
   "source": [
    "# Analiza korelacji pomiędzy zmiennymi"
   ]
  },
  {
   "cell_type": "markdown",
   "metadata": {},
   "source": [
    "Zrobię ogólną analizę korelacji, a później zajmę się zbadaniem zależności wybranych bardziej świadomie."
   ]
  },
  {
   "cell_type": "code",
   "execution_count": 165,
   "metadata": {},
   "outputs": [
    {
     "data": {
      "text/html": [
       "<div>\n",
       "<style scoped>\n",
       "    .dataframe tbody tr th:only-of-type {\n",
       "        vertical-align: middle;\n",
       "    }\n",
       "\n",
       "    .dataframe tbody tr th {\n",
       "        vertical-align: top;\n",
       "    }\n",
       "\n",
       "    .dataframe thead th {\n",
       "        text-align: right;\n",
       "    }\n",
       "</style>\n",
       "<table border=\"1\" class=\"dataframe\">\n",
       "  <thead>\n",
       "    <tr style=\"text-align: right;\">\n",
       "      <th></th>\n",
       "      <th>Klasa</th>\n",
       "      <th>Uratowany</th>\n",
       "      <th>Wiek</th>\n",
       "      <th>Rodzeństwo</th>\n",
       "      <th>Rodzice/Dzieci</th>\n",
       "      <th>Cena biletu</th>\n",
       "      <th>Numer ciała</th>\n",
       "      <th>W szalupie</th>\n",
       "    </tr>\n",
       "  </thead>\n",
       "  <tbody>\n",
       "    <tr>\n",
       "      <th>Klasa</th>\n",
       "      <td>1.000000</td>\n",
       "      <td>-0.312469</td>\n",
       "      <td>-0.408106</td>\n",
       "      <td>0.060832</td>\n",
       "      <td>0.018322</td>\n",
       "      <td>-0.558629</td>\n",
       "      <td>-0.034642</td>\n",
       "      <td>-0.323428</td>\n",
       "    </tr>\n",
       "    <tr>\n",
       "      <th>Uratowany</th>\n",
       "      <td>-0.312469</td>\n",
       "      <td>1.000000</td>\n",
       "      <td>-0.055513</td>\n",
       "      <td>-0.027825</td>\n",
       "      <td>0.082660</td>\n",
       "      <td>0.244265</td>\n",
       "      <td>NaN</td>\n",
       "      <td>0.948190</td>\n",
       "    </tr>\n",
       "    <tr>\n",
       "      <th>Wiek</th>\n",
       "      <td>-0.408106</td>\n",
       "      <td>-0.055513</td>\n",
       "      <td>1.000000</td>\n",
       "      <td>-0.243699</td>\n",
       "      <td>-0.150917</td>\n",
       "      <td>0.178739</td>\n",
       "      <td>0.058809</td>\n",
       "      <td>-0.053176</td>\n",
       "    </tr>\n",
       "    <tr>\n",
       "      <th>Rodzeństwo</th>\n",
       "      <td>0.060832</td>\n",
       "      <td>-0.027825</td>\n",
       "      <td>-0.243699</td>\n",
       "      <td>1.000000</td>\n",
       "      <td>0.373587</td>\n",
       "      <td>0.160238</td>\n",
       "      <td>-0.099961</td>\n",
       "      <td>-0.026488</td>\n",
       "    </tr>\n",
       "    <tr>\n",
       "      <th>Rodzice/Dzieci</th>\n",
       "      <td>0.018322</td>\n",
       "      <td>0.082660</td>\n",
       "      <td>-0.150917</td>\n",
       "      <td>0.373587</td>\n",
       "      <td>1.000000</td>\n",
       "      <td>0.221539</td>\n",
       "      <td>0.051099</td>\n",
       "      <td>0.089321</td>\n",
       "    </tr>\n",
       "    <tr>\n",
       "      <th>Cena biletu</th>\n",
       "      <td>-0.558629</td>\n",
       "      <td>0.244265</td>\n",
       "      <td>0.178739</td>\n",
       "      <td>0.160238</td>\n",
       "      <td>0.221539</td>\n",
       "      <td>1.000000</td>\n",
       "      <td>-0.043110</td>\n",
       "      <td>0.252717</td>\n",
       "    </tr>\n",
       "    <tr>\n",
       "      <th>Numer ciała</th>\n",
       "      <td>-0.034642</td>\n",
       "      <td>NaN</td>\n",
       "      <td>0.058809</td>\n",
       "      <td>-0.099961</td>\n",
       "      <td>0.051099</td>\n",
       "      <td>-0.043110</td>\n",
       "      <td>1.000000</td>\n",
       "      <td>NaN</td>\n",
       "    </tr>\n",
       "    <tr>\n",
       "      <th>W szalupie</th>\n",
       "      <td>-0.323428</td>\n",
       "      <td>0.948190</td>\n",
       "      <td>-0.053176</td>\n",
       "      <td>-0.026488</td>\n",
       "      <td>0.089321</td>\n",
       "      <td>0.252717</td>\n",
       "      <td>NaN</td>\n",
       "      <td>1.000000</td>\n",
       "    </tr>\n",
       "  </tbody>\n",
       "</table>\n",
       "</div>"
      ],
      "text/plain": [
       "                   Klasa  Uratowany      Wiek  Rodzeństwo  Rodzice/Dzieci  \\\n",
       "Klasa           1.000000  -0.312469 -0.408106    0.060832        0.018322   \n",
       "Uratowany      -0.312469   1.000000 -0.055513   -0.027825        0.082660   \n",
       "Wiek           -0.408106  -0.055513  1.000000   -0.243699       -0.150917   \n",
       "Rodzeństwo      0.060832  -0.027825 -0.243699    1.000000        0.373587   \n",
       "Rodzice/Dzieci  0.018322   0.082660 -0.150917    0.373587        1.000000   \n",
       "Cena biletu    -0.558629   0.244265  0.178739    0.160238        0.221539   \n",
       "Numer ciała    -0.034642        NaN  0.058809   -0.099961        0.051099   \n",
       "W szalupie     -0.323428   0.948190 -0.053176   -0.026488        0.089321   \n",
       "\n",
       "                Cena biletu  Numer ciała  W szalupie  \n",
       "Klasa             -0.558629    -0.034642   -0.323428  \n",
       "Uratowany          0.244265          NaN    0.948190  \n",
       "Wiek               0.178739     0.058809   -0.053176  \n",
       "Rodzeństwo         0.160238    -0.099961   -0.026488  \n",
       "Rodzice/Dzieci     0.221539     0.051099    0.089321  \n",
       "Cena biletu        1.000000    -0.043110    0.252717  \n",
       "Numer ciała       -0.043110     1.000000         NaN  \n",
       "W szalupie         0.252717          NaN    1.000000  "
      ]
     },
     "execution_count": 165,
     "metadata": {},
     "output_type": "execute_result"
    }
   ],
   "source": [
    "df.corr(numeric_only=True)"
   ]
  },
  {
   "cell_type": "markdown",
   "metadata": {},
   "source": [
    "Niewiele tu widać. Jedyna istotna korelacja (której można sie było spodziewać) to silna korelacja pomiędzy faktem że ktoś wsiadł do szalupy i faktem, że został uratowany. No cóż, odkrywcze to to nie jest. Jest jeszcze minimalna korelacja pomiędzy ceną biletu a klasą i na tym koniec."
   ]
  },
  {
   "cell_type": "markdown",
   "metadata": {},
   "source": [
    "# Analiza"
   ]
  },
  {
   "cell_type": "markdown",
   "metadata": {},
   "source": [
    "Na tym etapie trzeba już wiedzieć czego szukamy. Jakie jest pytanie (nasze lub klienta), na które chcemy znaleźć odpowiedź. Można sobie wymyślić wiele różnych analiz, które zależnie od rodzaju i jakości danych będą mniej lub bardziej ciekawe. Ja zadam sobie trzy pytania:\n",
    "\n",
    "1. Czy osoby podróżujące w klasie pierwszej miały pierwszeństwo przy wsiadaniu do szalup?\n",
    "2. Czy kobiety i dzieci miały pierwszeństwo przy wsiadaniu do szalup?\n",
    "3. Czy wśród tych, którzy nie wsiedli do szalup wiek miał wpływ na ich szanse przeżycia?"
   ]
  },
  {
   "cell_type": "markdown",
   "metadata": {},
   "source": [
    "## Czy osoby podróżujące w klasie pierwszej miały pierwszeństwo przy wsiadaniu do szalup?"
   ]
  },
  {
   "cell_type": "code",
   "execution_count": 171,
   "metadata": {},
   "outputs": [
    {
     "data": {
      "image/png": "[encoded data removed]",
      "text/plain": [
       "<Figure size 1000x600 with 2 Axes>"
      ]
     },
     "metadata": {},
     "output_type": "display_data"
    }
   ],
   "source": [
    "import matplotlib.pyplot as plt\n",
    "\n",
    "df = df\n",
    "df = df.dropna(subset=['Klasa'])\n",
    "df['in_boat'] = df['Numer szalupy'].notna()\n",
    "\n",
    "grouped = df.groupby('Klasa').agg(\n",
    "    passengers_in_boat=('in_boat', 'sum'),\n",
    "    total_passengers=('in_boat', 'count')\n",
    ").reset_index()\n",
    "\n",
    "grouped['percentage_in_boat'] = grouped['passengers_in_boat'] / grouped['total_passengers'] * 100\n",
    "\n",
    "fig, ax1 = plt.subplots(figsize=(10, 6))\n",
    "\n",
    "ax1.bar(grouped['Klasa'], grouped['passengers_in_boat'], color='b')\n",
    "ax1.set_xlabel('Klasa')\n",
    "ax1.set_ylabel('Liczba pasażerów w szalupach', color='b')\n",
    "ax1.tick_params(axis='y', labelcolor='b')\n",
    "\n",
    "for i, v in enumerate(grouped['passengers_in_boat']):\n",
    "    ax1.text(i + 1 - 0.1, v + 2, str(v), color='b', fontweight='bold')\n",
    "\n",
    "ax2 = ax1.twinx()\n",
    "ax2.plot(grouped['Klasa'], grouped['percentage_in_boat'], color='y', marker='o')\n",
    "ax2.set_ylabel('Procent pasażerów w szalupach', color='y')\n",
    "ax2.tick_params(axis='y', labelcolor='y')\n",
    "ax2.set_ylim(0, 100)\n",
    "\n",
    "for i, v in enumerate(grouped['percentage_in_boat']):\n",
    "    ax2.text(i + 1 - 0.1, v + 2, f'{v:.1f}%', color='y', fontweight='bold')\n",
    "\n",
    "plt.title('Liczba i procent pasażerów w szalupach według klasy')\n",
    "plt.tight_layout()\n",
    "plt.savefig('exports/charts/c5af4886-c540-42ba-92fb-169443a7c5cf.png')"
   ]
  },
  {
   "cell_type": "markdown",
   "metadata": {},
   "source": [
    "Trochę walczyłem z AI przez Data Chattera, żeby narysował mi wykres jakiego oczekiwałem. \n",
    "- Nie udało mi się go skłonić do skorzystania wyłącznie z modułu pandas. Konsekwentnie dodawał moduł matplotlib.pyplot wieć ostatecznie to zaakceptowałem.\n",
    "- Dostałem kilka razy odpowiedź \"no result returned\".\n",
    "- W początkowych wersjach kodu dodawał linie wyjaśniające poszczególne kroki kodu. Później się już znudził i ostatecznie nie mam tych linii. To nauczka na przyszłość, żeby przy kolejnych iteracjach zachować sobie pierwszą wersję do podglądu. Inaczej trzeba będzie używać Code Explainera."
   ]
  },
  {
   "cell_type": "markdown",
   "metadata": {},
   "source": [
    "Wyniki są ciekawe. Widać, że pomimo zagrożenia załoga trzymała dyscyplinę na pokładzie. \n",
    "- Do szalup wsiadali przede wszystkim pasażerowie pierwszej klasy. Z braku szalup (których było trzykrotnie za mało) i tak nie wszyscy się zmieścili, ale mieli zapewne pierwszeństwo.\n",
    "- Pasażerów klasy drugiej było w ogóle najmniej, więc także w szalupach nie ma ich wielu, ale 40% ogółu pasażerów znalazło się w łodziach ratunkowych.\n",
    "- Z klasy trzeciej do szalup wsiadło zaledwie 24% pasażerów, ale to i tak sporo biorąc pod uwagę ogólną liczbę osób podróżujących w tej klasie."
   ]
  },
  {
   "cell_type": "markdown",
   "metadata": {},
   "source": [
    "## Czy kobiety miały pierwszeństwo przy wsiadaniu do szalup?"
   ]
  },
  {
   "cell_type": "code",
   "execution_count": 176,
   "metadata": {},
   "outputs": [
    {
     "data": {
      "image/png": "[encoded data removed]",
      "text/plain": [
       "<Figure size 1400x600 with 4 Axes>"
      ]
     },
     "metadata": {},
     "output_type": "display_data"
    }
   ],
   "source": [
    "# Filter out passengers who boarded lifeboats\n",
    "df['boarded_lifeboat'] = df['Numer szalupy'].notna()\n",
    "\n",
    "# Group by class and sex, then count those who boarded lifeboats\n",
    "grouped = df[df['boarded_lifeboat']].groupby(['Klasa', 'Płeć']).size().unstack()\n",
    "\n",
    "# Calculate total passengers per class and sex\n",
    "total_passengers = df.groupby(['Klasa', 'Płeć']).size().unstack()\n",
    "\n",
    "# Calculate percentage of passengers who boarded lifeboats\n",
    "percentage_boarded = (grouped / total_passengers) * 100\n",
    "\n",
    "# Plotting\n",
    "fig, axes = plt.subplots(nrows=1, ncols=2, figsize=(14, 6), sharey=False)\n",
    "\n",
    "# Plot for women\n",
    "axes[0].bar(grouped.index, grouped['female'], color='pink', label='Kobiety w szalupach')\n",
    "axes[0].set_title('Kobiety w szalupach')\n",
    "axes[0].set_xlabel('Klasa')\n",
    "axes[0].set_ylabel('')\n",
    "axes[0].set_ylim(0, 120)\n",
    "axes[0].twinx().plot(grouped.index, percentage_boarded['female'], color='red', marker='o')\n",
    "axes[0].set_ylim(0, 160)\n",
    "axes[0].set_ylabel('Liczba osób w szalupach')\n",
    "\n",
    "# Annotate values on the women's plot\n",
    "for i, v in enumerate(grouped['female']):\n",
    "    axes[0].text(i + 1, v + 5, str(v), ha='center', color='black')\n",
    "for i, v in enumerate(percentage_boarded['female']):\n",
    "    axes[0].text(i + 1, v + 5, f\"{v:.1f}%\", ha='center', color='red')\n",
    "\n",
    "# Plot for men\n",
    "axes[1].bar(grouped.index, grouped['male'], color='lightblue', label='Mężczyźni w szalupach')\n",
    "axes[1].set_title('Mężczyźni w szalupach')\n",
    "axes[1].set_xlabel('Klasa')\n",
    "axes[1].set_ylabel('%')\n",
    "axes[1].set_ylim(0, 120)\n",
    "axes[1].twinx().plot(grouped.index, percentage_boarded['male'], color='blue', marker='o')\n",
    "axes[1].set_ylim(0, 160)\n",
    "axes[1].set_ylabel('%')\n",
    "\n",
    "# Annotate values on the men's plot\n",
    "for i, v in enumerate(grouped['male']):\n",
    "    axes[1].text(i + 1, v + 5, str(v), ha='center', color='black')\n",
    "for i, v in enumerate(percentage_boarded['male']):\n",
    "    axes[1].text(i + 1, v + 5, f\"{v:.1f}%\", ha='center', color='blue')\n",
    "\n",
    "plt.tight_layout()\n",
    "plt.savefig(\"passenger_lifeboat_chart.png\")"
   ]
  },
  {
   "cell_type": "markdown",
   "metadata": {},
   "source": [
    "Dość długo walczyłem z tym podwójnym wykresem, ale w końcu się poddałem. \n",
    "- Pomimo identycznych (tak mi się wydaje) kodów lewy i prawy wykres mają różne prawe skale y. Wykres dla kobiet ma prawą skalę y taką jak powinien mieć a wykres dla mężczyzn ma jakieś liczby od czapy. Nie umiem znaleźć w kodzie miejsca, które decyduje o tym problemie.\n",
    "- Naklejki z odsedkiem pasażerów i pasażerek, którzy wsiedli do łodzi są w złych miejscach. Nie wiem jak działa ta formuła. Wygląda to jakby lokalizacja tych naklejek była przypisana do lewej skali y a nie do prawej.\n",
    "- Góra też wygląda trochę nie bardzo. Przydałoby się więcej miejsca między wykresem i tytułem.\n",
    "\n",
    "W realnej sytuacji z klientem zrobiłbym dwa oddzielne wykresy dla kobiet i dla mężczyzn, ale tutaj zostawię. Do ewentualnego poprawienia jak już ogarnę tę formułę rysowania."
   ]
  },
  {
   "cell_type": "markdown",
   "metadata": {},
   "source": [
    "Wniosek merytoryczny z analizy jest taki, że w pierwszej i drugiej klasie, przy wsiadaniu do szalup wyraźnie dawano pierwszeństwo kobietom. W trzeciej klasie też kobiety mają przewagę, ale nie jest to już tak ewidentne."
   ]
  },
  {
   "cell_type": "markdown",
   "metadata": {},
   "source": [
    "## Czy dzieci miały pierwszeństwo przy wsiadaniu do szalup?"
   ]
  },
  {
   "cell_type": "code",
   "execution_count": 181,
   "metadata": {},
   "outputs": [
    {
     "data": {
      "image/png": "[encoded data removed]",
      "text/plain": [
       "<Figure size 1000x600 with 1 Axes>"
      ]
     },
     "metadata": {},
     "output_type": "display_data"
    }
   ],
   "source": [
    "# Filter children below 15 years of age\n",
    "children_df = df[df['Wiek'] < 15]\n",
    "\n",
    "# Group by class and calculate the number of children who boarded lifeboats\n",
    "children_by_class = children_df.groupby('Klasa').agg(\n",
    "    total_children=('Wiek', 'count'),\n",
    "    children_in_lifeboats=('boarded_lifeboat', 'sum')\n",
    ").reset_index()\n",
    "\n",
    "# Calculate the percentage of children who boarded lifeboats\n",
    "children_by_class['percentage_in_lifeboats'] = (children_by_class['children_in_lifeboats'] / children_by_class['total_children']) * 100\n",
    "\n",
    "# Plotting\n",
    "fig, ax = plt.subplots(figsize=(10, 6))\n",
    "\n",
    "# Bar plot for the number of children in lifeboats\n",
    "ax.bar(children_by_class['Klasa'], children_by_class['children_in_lifeboats'], color='skyblue', label='Dzieci w szalupach')\n",
    "\n",
    "# Add labels on top of the bars\n",
    "for i, row in children_by_class.iterrows():\n",
    "    ax.text(row['Klasa'], row['children_in_lifeboats'] + 0.5, f\"{int(row['children_in_lifeboats'])} ({row['percentage_in_lifeboats']:.1f}%)\", ha='center', va='bottom')\n",
    "\n",
    "# Set labels and title\n",
    "ax.set_xlabel('Klasa', fontsize=12)\n",
    "ax.set_ylabel('Liczba dzieci', fontsize=12)\n",
    "ax.set_title('Odsetek dzieci poniżej 15 lat w szalupach w podziale na klasy', fontsize=14)\n",
    "ax.set_xticks(children_by_class['Klasa'])\n",
    "ax.set_xticklabels(['1 klasa', '2 klasa', '3 klasa'])\n",
    "\n",
    "# Show legend\n",
    "ax.legend()\n",
    "\n",
    "# Save the plot as a PNG file\n",
    "plt.tight_layout()\n",
    "plt.savefig('children_in_lifeboats_by_class.png')"
   ]
  },
  {
   "cell_type": "markdown",
   "metadata": {},
   "source": [
    "Refleksja techniczna: AI w postaci Data Chattera jest w znacznym stopniu nieprzewidywalny. Takie same lub podobne polecenia są wykonywane w bardzo różny sposób. Gdybym chciał mieć jeden standard wyglądu wykresów, to musiałbym chyba sporo potrenować współpracę z tą istotą :-)."
   ]
  },
  {
   "cell_type": "markdown",
   "metadata": {},
   "source": [
    "Wniosek merytoryczny: generalnie widać, że starano się ratować dzieci we wszystkich klasach. W pierwszej i drugiej to się wyraźnie udało. W trzeciej - niestety pewnie tłok i chaos był za duży."
   ]
  },
  {
   "cell_type": "markdown",
   "metadata": {},
   "source": [
    "## Jakie szanse przeżycia miały osoby, które nie wsiadły do szalup"
   ]
  },
  {
   "cell_type": "code",
   "execution_count": 186,
   "metadata": {},
   "outputs": [
    {
     "data": {
      "image/png": "[encoded data removed]",
      "text/plain": [
       "<Figure size 1000x600 with 1 Axes>"
      ]
     },
     "metadata": {},
     "output_type": "display_data"
    }
   ],
   "source": [
    "# Import the required dependencies\n",
    "import numpy as np\n",
    "\n",
    "# Filter data for passengers who did not board lifeboats but survived\n",
    "filtered_df = df[(df['boarded_lifeboat'] == False) & (df['Uratowany'] == 1)]\n",
    "\n",
    "# Drop rows with NaN values in 'age' column\n",
    "filtered_df = filtered_df.dropna(subset=['Wiek'])\n",
    "\n",
    "# Create age groups in intervals of 10 years\n",
    "bins = np.arange(0, 90, 10)\n",
    "labels = [f'{i}-{i+9}' for i in bins[:-1]]\n",
    "filtered_df['age_group'] = pd.cut(filtered_df['Wiek'], bins=bins, labels=labels, right=False)\n",
    "\n",
    "# Count the number of survivors in each age group\n",
    "survivors_count = filtered_df['age_group'].value_counts().sort_index()\n",
    "\n",
    "# Count the total number of passengers in each age group who did not board lifeboats\n",
    "total_count = df[df['boarded_lifeboat'] == False].dropna(subset=['Wiek'])\n",
    "total_count['age_group'] = pd.cut(total_count['Wiek'], bins=bins, labels=labels, right=False)\n",
    "total_count = total_count['age_group'].value_counts().sort_index()\n",
    "\n",
    "# Calculate the percentage of survivors in each age group\n",
    "percentage_survivors = (survivors_count / total_count * 100).fillna(0)\n",
    "\n",
    "# Plotting\n",
    "fig, ax = plt.subplots(figsize=(10, 6))\n",
    "bars = ax.bar(survivors_count.index, survivors_count.values, color='skyblue')\n",
    "\n",
    "# Add labels above bars\n",
    "for bar, count, percentage in zip(bars, survivors_count.values, percentage_survivors.values):\n",
    "    ax.text(bar.get_x() + bar.get_width() / 2, bar.get_height(),\n",
    "            f'{int(count)} ({percentage:.1f}%)', ha='center', va='bottom')\n",
    "\n",
    "# Set labels and title\n",
    "ax.set_xlabel('Grupa wiekowa')\n",
    "ax.set_ylabel('Liczba osób, które przeżyły')\n",
    "ax.set_title('Liczba osób, które nie wsiadły do szalup lecz przeżyły w podziale na wiek')\n",
    "ax.set_xticks(survivors_count.index)\n",
    "ax.set_xticklabels(survivors_count.index)\n",
    "\n",
    "# Save the plot as a PNG file\n",
    "plt.tight_layout()\n",
    "plt.savefig('survivors_age_group.png')"
   ]
  },
  {
   "cell_type": "markdown",
   "metadata": {},
   "source": [
    "Słupki wyglądają na wysokie bo taka jest skala, ale dane są przerażające. Generalnie, bez względu na wiek szanse na przeżycie bez szalupy wynosiły 2% do 5%. Pewnie zadecydowały tutaj zupełnie inne czynniki (gdzie ktoś był, jak późno wpadł do wody, czy miał się czego przytrzymać). Straszne!"
   ]
  },
  {
   "cell_type": "markdown",
   "metadata": {},
   "source": [
    "# Wnioski i pytania techniczne"
   ]
  },
  {
   "cell_type": "markdown",
   "metadata": {},
   "source": [
    "To zadanie, jak rozumiem, miało pokazać, że ktoś kto nigdy nie programował w Pythonie, dzięki AI jest w stanie pisać programy i wykonywać dzięki nim złożone analizy. W moim przypadku tak się stało - zapanowałem nad danymi i zdołałem wyciągnąć z nich te informacje, których szukałem. Odebrałem też następujące lekcje:\n",
    "1. Mam przyzwyczajenie z pracy na Excelu, że dla potrzeb mojej analizy zmieniam nazwy kolumn w taki sposób, żeby przy budowaniu tabel i wykresów wszystko było czytelne i zrozumiałe bez konieczności dodatkowej edycji. W przypadku  pracy z AI to chyba bez sensu - edycja legend i tytułów nie jest uciążliwa.\n",
    "2. W zasobach Pythona są niezliczone ilości pakietów, które AI zna a ja nie. Przydałaby się jakaś biblioteka czy lista.\n",
    "3. Ja, przy pomocy Data Chattera formułuję polecenie, ale nie umiem dostatecznie precyzyjnie pokierować pracą aby dostawać powtarzalne wyniki. Nie chodzi mi o wyliczenia - te są powtarzalne - chodzi mi o format prezentacji, legendy, skale  itp. Mam nadzieję, że tego mnie nauczycie.\n",
    "4. Czasami mam wrażenie, że AI zachowuje się jak leniwy asystent. Za pierwszym razem coś zrobi w miarę starannie, ale gdy się go prosi o uzupełnienie czy poprawkę to efekt jest gorszy niż pierwotny. Łącznie z tym, że kilka razy dostałem odpowiedź: Unfortunately, I was not able to answer your question, because of the following error: \r\n",
    "No result returned"
   ]
  },
  {
   "cell_type": "code",
   "execution_count": null,
   "metadata": {},
   "outputs": [],
   "source": []
  }
 ],
 "metadata": {
  "kernelspec": {
   "display_name": "anaconda-panel-2023.05-py310",
   "language": "python",
   "name": "conda-env-anaconda-panel-2023.05-py310-py"
  },
  "language_info": {
   "codemirror_mode": {
    "name": "ipython",
    "version": 3
   },
   "file_extension": ".py",
   "mimetype": "text/x-python",
   "name": "python",
   "nbconvert_exporter": "python",
   "pygments_lexer": "ipython3",
   "version": "3.11.5"
  }
 },
 "nbformat": 4,
 "nbformat_minor": 4
}

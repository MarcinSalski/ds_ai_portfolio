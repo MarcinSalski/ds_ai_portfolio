{
 "cells": [
  {
   "cell_type": "code",
   "execution_count": null,
   "metadata": {
    "editable": true,
    "slideshow": {
     "slide_type": "skip"
    },
    "tags": []
   },
   "outputs": [],
   "source": [
    "import pandas as pd\n",
    "import seaborn as sns\n",
    "import matplotlib.pyplot as plt\n",
    "from matplotlib.ticker import MaxNLocator\n",
    "from IPython.display import Markdown\n",
    "from pycaret.regression import setup\n",
    "import numpy as np"
   ]
  },
  {
   "cell_type": "markdown",
   "metadata": {
    "editable": true,
    "slideshow": {
     "slide_type": "slide"
    },
    "tags": []
   },
   "source": [
    "# Analiza danych World Happiness Report 2005-2023"
   ]
  },
  {
   "cell_type": "code",
   "execution_count": null,
   "metadata": {
    "editable": true,
    "slideshow": {
     "slide_type": "skip"
    },
    "tags": []
   },
   "outputs": [],
   "source": [
    "happy_df = pd.read_csv(\"world_happiness_report.csv\", sep=\";\")\n",
    "happy_df.rename(columns={\n",
    "    'Country name': 'country',\n",
    "    'Year': 'year',\n",
    "    'Happiness Score': 'happiness_score',\n",
    "    'GDP': 'gdp',\n",
    "    'Social support': 'social_support',\n",
    "    'Healthy life expectancy at birth': 'life_expectancy',\n",
    "    'Freedom to make life choices': 'freedom',\n",
    "    'Generosity': 'generosity',\n",
    "    'Perceptions of corruption': 'corruption',\n",
    "    'Positive affect': 'positive_affect',\n",
    "    'Negative affect': 'negative_affect',\n",
    "    'Continent': 'continent',\n",
    "}, inplace=True)"
   ]
  },
  {
   "cell_type": "markdown",
   "metadata": {
    "editable": true,
    "slideshow": {
     "slide_type": "slide"
    },
    "tags": []
   },
   "source": [
    "## Ogólne informacje"
   ]
  },
  {
   "cell_type": "markdown",
   "metadata": {
    "editable": true,
    "slideshow": {
     "slide_type": "slide"
    },
    "tags": []
   },
   "source": [
    "#### Dane zawierają informacje o poziomie szczęścia w różnych krajach na przestrzeni lat."
   ]
  },
  {
   "cell_type": "code",
   "execution_count": null,
   "metadata": {
    "editable": true,
    "slideshow": {
     "slide_type": "slide"
    },
    "tags": []
   },
   "outputs": [],
   "source": [
    "Markdown(f\"\"\"\n",
    "#### Dane zawierają **{len(happy_df)}** wierszy i **{len(happy_df.columns)}** kolumn.\n",
    "\"\"\")"
   ]
  },
  {
   "cell_type": "code",
   "execution_count": null,
   "metadata": {
    "editable": true,
    "slideshow": {
     "slide_type": "slide"
    },
    "tags": []
   },
   "outputs": [],
   "source": [
    "min_year = happy_df['year'].min()\n",
    "max_year = happy_df['year'].max()\n",
    "Markdown(f\"\"\"\n",
    "#### Dane pochodzą z lat **{min_year}** - **{max_year}**.\n",
    "\"\"\")"
   ]
  },
  {
   "cell_type": "code",
   "execution_count": null,
   "metadata": {
    "editable": true,
    "slideshow": {
     "slide_type": "slide"
    },
    "tags": []
   },
   "outputs": [],
   "source": [
    "amount_of_countries = happy_df['country'].nunique()\n",
    "Markdown(f\"\"\"\n",
    "#### Dane dotyczą **{amount_of_countries}** krajów.\n",
    "\"\"\")"
   ]
  },
  {
   "cell_type": "markdown",
   "metadata": {
    "editable": true,
    "slideshow": {
     "slide_type": "slide"
    },
    "tags": []
   },
   "source": [
    "#### Ogromna większość kolumn zawiera wartości liczbowe"
   ]
  },
  {
   "cell_type": "code",
   "execution_count": null,
   "metadata": {
    "editable": true,
    "slideshow": {
     "slide_type": "fragment"
    },
    "tags": []
   },
   "outputs": [],
   "source": [
    "sample_df = happy_df.sample(5, random_state=42)\n",
    "\n",
    "(\n",
    "    sample_df[[\"country\", \"year\", \"happiness_score\", \"gdp\", \"social_support\", \"life_expectancy\", \"freedom\"]]\n",
    "    .style\n",
    "    .hide(axis=\"index\")\n",
    ")"
   ]
  },
  {
   "cell_type": "code",
   "execution_count": null,
   "metadata": {
    "editable": true,
    "slideshow": {
     "slide_type": "fragment"
    },
    "tags": []
   },
   "outputs": [],
   "source": [
    "(\n",
    "    sample_df[[\"generosity\", \"corruption\", \"positive_affect\", \"negative_affect\", \"continent\"]]\n",
    "    .style\n",
    "    .hide(axis=\"index\")\n",
    ")"
   ]
  },
  {
   "cell_type": "markdown",
   "metadata": {
    "editable": true,
    "slideshow": {
     "slide_type": "slide"
    },
    "tags": []
   },
   "source": [
    "#### Happiness Score jest wartością, która określa poziom szczęścia w danym kraju. "
   ]
  },
  {
   "cell_type": "code",
   "execution_count": null,
   "metadata": {
    "editable": true,
    "slideshow": {
     "slide_type": "fragment"
    },
    "tags": []
   },
   "outputs": [],
   "source": [
    "sns.displot(happy_df, x=\"happiness_score\", fill=True)\n",
    "\n",
    "median = happy_df[\"happiness_score\"].median()\n",
    "plt.axvline(median, color=\"black\", linestyle=\"--\")\n",
    "plt.text(x=median + 0.1, y=200, s=\"Mediana\", color=\"black\", fontdict={\"size\": 18})\n",
    "plt.text(x=median + 0.1, y=180, s=str(median), color=\"black\", fontdict={\"size\": 18})\n",
    "plt.show()"
   ]
  },
  {
   "cell_type": "markdown",
   "metadata": {
    "editable": true,
    "slideshow": {
     "slide_type": "slide"
    },
    "tags": []
   },
   "source": [
    "#### Czy świat jest coraz szczęśliwszy? "
   ]
  },
  {
   "cell_type": "markdown",
   "metadata": {
    "slideshow": {
     "slide_type": "slide"
    }
   },
   "source": [
    "#### Pomimo początkowego spadku, średni poziom szczęścia na świecie rośnie!"
   ]
  },
  {
   "cell_type": "code",
   "execution_count": null,
   "metadata": {
    "slideshow": {
     "slide_type": "fragment"
    }
   },
   "outputs": [],
   "source": [
    "plt.figure(figsize=(12, 6))\n",
    "happy_df.sort_values('happiness_score', inplace=True)\n",
    "\n",
    "sns.boxplot(happy_df, x='year', y='happiness_score')\n",
    "medians = happy_df.groupby('year')['happiness_score'].median().values\n",
    "for i, median in enumerate(medians):\n",
    "    plt.text(\n",
    "        x=i,\n",
    "        y=median + 0.2,\n",
    "        s=str(round(median, 2)),\n",
    "        horizontalalignment='center',\n",
    "        size='medium',\n",
    "        color='w',\n",
    "        weight='semibold',\n",
    "    )\n",
    "\n",
    "plt.gca().xaxis.set_major_locator(MaxNLocator(integer=True))\n",
    "plt.title('Poziom szczęścia na świecie w latach 2005-2023')\n",
    "plt.xlabel('Rok')\n",
    "plt.ylabel('Wskaźnik szczęścia')\n",
    "plt.grid(which='major', color='#cccccc', linestyle='--')"
   ]
  },
  {
   "cell_type": "markdown",
   "metadata": {
    "slideshow": {
     "slide_type": "slide"
    }
   },
   "source": [
    "#### Pierwszy zarejestrowany wynik zawiera pomiary jedynie dla kilku krajów z ogromną przewagą krajów europejskich."
   ]
  },
  {
   "cell_type": "code",
   "execution_count": null,
   "metadata": {
    "slideshow": {
     "slide_type": "fragment"
    }
   },
   "outputs": [],
   "source": [
    "(\n",
    "    happy_df[happy_df[\"year\"] == 2005]\n",
    "    .groupby(\"continent\", as_index=False)[[\"happiness_score\"]].count()\n",
    "    .rename(columns={\n",
    "        \"happiness_score\": \"count\",\n",
    "    })\n",
    "    .sort_values(\"count\", ascending=True)\n",
    "    .plot(\n",
    "        x=\"continent\",\n",
    "        y=\"count\",\n",
    "        kind=\"barh\",\n",
    "        legend=False,\n",
    "        title=\"Liczba krajów objętych badaniem w 2005 roku\",\n",
    "        xlabel=\"Liczba krajów\",\n",
    "        ylabel=\"Kontynent\",\n",
    "    )\n",
    ");"
   ]
  },
  {
   "cell_type": "markdown",
   "metadata": {
    "slideshow": {
     "slide_type": "slide"
    }
   },
   "source": [
    "#### W miarę upływu lat, liczba krajów w zestawie danych wzrasta, co pozwala na bardziej reprezentatywne wyniki."
   ]
  },
  {
   "cell_type": "code",
   "execution_count": null,
   "metadata": {
    "slideshow": {
     "slide_type": "fragment"
    }
   },
   "outputs": [],
   "source": [
    "fig = plt.figure(figsize=(12, 6))\n",
    "(\n",
    "    happy_df\n",
    "    .groupby(\"year\", as_index=False)[[\"country\"]].count()\n",
    "    .rename(columns={\n",
    "        \"country\": \"count\",\n",
    "    })\n",
    "    .plot(\n",
    "        x=\"year\",\n",
    "        y=\"count\",\n",
    "        kind=\"bar\",\n",
    "        legend=False,\n",
    "        title=\"Liczba krajów objętych badaniem w latach 2005-2023\",\n",
    "        xlabel=\"Rok\",\n",
    "        ylabel=\"Liczba krajów\",\n",
    "        ax=fig.gca(),\n",
    "    )\n",
    ");"
   ]
  },
  {
   "cell_type": "markdown",
   "metadata": {
    "slideshow": {
     "slide_type": "slide"
    }
   },
   "source": [
    "#### Świat jest coraz szczęśliwszy, co najbardziej napędza to szczęście w 2023 roku? "
   ]
  },
  {
   "cell_type": "code",
   "execution_count": null,
   "metadata": {
    "slideshow": {
     "slide_type": "skip"
    }
   },
   "outputs": [],
   "source": [
    "exp = setup(\n",
    "    data=happy_df[happy_df[\"year\"] == 2023],\n",
    "    target=\"happiness_score\",\n",
    "    session_id=42,\n",
    "    ignore_features=[\"country\", \"year\", \"continent\"],\n",
    "    normalize=True,\n",
    "    normalize_method=\"zscore\",\n",
    "    verbose=False,\n",
    ")\n",
    "\n",
    "best_model = exp.compare_models(exclude=[\"knn\"])"
   ]
  },
  {
   "cell_type": "code",
   "execution_count": null,
   "metadata": {
    "editable": true,
    "slideshow": {
     "slide_type": "skip"
    },
    "tags": []
   },
   "outputs": [],
   "source": [
    "exp.plot_model(best_model, plot=\"error\")"
   ]
  },
  {
   "cell_type": "markdown",
   "metadata": {
    "slideshow": {
     "slide_type": "slide"
    }
   },
   "source": [
    "#### Okazuje się, że największy wpływ na wzrost poziomu szczęścia na świecie ma tzw. `social support` czyli wsparcie społeczne!"
   ]
  },
  {
   "cell_type": "code",
   "execution_count": null,
   "metadata": {
    "slideshow": {
     "slide_type": "fragment"
    }
   },
   "outputs": [],
   "source": [
    "exp.plot_model(best_model, plot=\"feature\")"
   ]
  },
  {
   "cell_type": "code",
   "execution_count": null,
   "metadata": {
    "editable": true,
    "slideshow": {
     "slide_type": "skip"
    },
    "tags": []
   },
   "outputs": [],
   "source": [
    "!jupyter nbconvert 15__notebook_to_presentation.ipynb --to slides --no-input --no-prompt"
   ]
  }
 ],
 "metadata": {
  "kernelspec": {
   "display_name": "Python 3 (ipykernel)",
   "language": "python",
   "name": "python3"
  },
  "language_info": {
   "codemirror_mode": {
    "name": "ipython",
    "version": 3
   },
   "file_extension": ".py",
   "mimetype": "text/x-python",
   "name": "python",
   "nbconvert_exporter": "python",
   "pygments_lexer": "ipython3",
   "version": "3.11.3"
  }
 },
 "nbformat": 4,
 "nbformat_minor": 4
}
